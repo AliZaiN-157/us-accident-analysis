{
 "cells": [
  {
   "cell_type": "markdown",
   "metadata": {
    "id": "FEagR3ZqeMPp"
   },
   "source": [
    "# us-accident-analysis\n",
    "\n",
    "Use the \"Run\" button to execute the code."
   ]
  },
  {
   "cell_type": "code",
   "execution_count": 8,
   "metadata": {
    "executionInfo": {
     "elapsed": 7390,
     "status": "ok",
     "timestamp": 1618856321224,
     "user": {
      "displayName": "Ali Zain",
      "photoUrl": "",
      "userId": "05428374994241105854"
     },
     "user_tz": -300
    },
    "id": "id_yaSWDeMPp"
   },
   "outputs": [],
   "source": [
    "!pip install jovian --upgrade --quiet"
   ]
  },
  {
   "cell_type": "code",
   "execution_count": 9,
   "metadata": {
    "executionInfo": {
     "elapsed": 7381,
     "status": "ok",
     "timestamp": 1618856321225,
     "user": {
      "displayName": "Ali Zain",
      "photoUrl": "",
      "userId": "05428374994241105854"
     },
     "user_tz": -300
    },
    "id": "6hdjG8sMeMPq"
   },
   "outputs": [],
   "source": [
    "import jovian"
   ]
  },
  {
   "cell_type": "code",
   "execution_count": 10,
   "metadata": {
    "colab": {
     "base_uri": "https://localhost:8080/",
     "height": 137
    },
    "executionInfo": {
     "elapsed": 15259,
     "status": "ok",
     "timestamp": 1618856329116,
     "user": {
      "displayName": "Ali Zain",
      "photoUrl": "",
      "userId": "05428374994241105854"
     },
     "user_tz": -300
    },
    "id": "-keCeQ4DeMPq",
    "outputId": "8843a61f-d11f-48df-d797-19f3bf566acf"
   },
   "outputs": [
    {
     "name": "stdout",
     "output_type": "stream",
     "text": [
      "[jovian] Detected Colab notebook...\u001b[0m\n",
      "[jovian] Please enter your API key ( from https://jovian.ai/ ):\u001b[0m\n",
      "API KEY: ··········\n",
      "[jovian] Uploading colab notebook to Jovian...\u001b[0m\n",
      "[jovian] Capturing environment..\u001b[0m\n",
      "[jovian] Committed successfully! https://jovian.ai/vin-alizain/us-accident-analysis\u001b[0m\n"
     ]
    },
    {
     "data": {
      "application/vnd.google.colaboratory.intrinsic+json": {
       "type": "string"
      },
      "text/plain": [
       "'https://jovian.ai/vin-alizain/us-accident-analysis'"
      ]
     },
     "execution_count": 10,
     "metadata": {
      "tags": []
     },
     "output_type": "execute_result"
    }
   ],
   "source": [
    "# Execute this to save new versions of the notebook\n",
    "jovian.commit(project=\"us-accident-analysis\")"
   ]
  },
  {
   "cell_type": "markdown",
   "metadata": {
    "id": "m2t_tNXpeicU"
   },
   "source": [
    "## Exploratory Data Analysis"
   ]
  },
  {
   "cell_type": "markdown",
   "metadata": {
    "id": "u4vfKObhen6B"
   },
   "source": [
    "#### Download Data sets and Import packages"
   ]
  },
  {
   "cell_type": "code",
   "execution_count": 11,
   "metadata": {
    "executionInfo": {
     "elapsed": 18232,
     "status": "ok",
     "timestamp": 1618856332104,
     "user": {
      "displayName": "Ali Zain",
      "photoUrl": "",
      "userId": "05428374994241105854"
     },
     "user_tz": -300
    },
    "id": "Dl3WbRgKemqB"
   },
   "outputs": [],
   "source": [
    "\n",
    "!pip install opendatasets --upgrade --quiet"
   ]
  },
  {
   "cell_type": "code",
   "execution_count": 12,
   "metadata": {
    "colab": {
     "base_uri": "https://localhost:8080/"
    },
    "executionInfo": {
     "elapsed": 49012,
     "status": "ok",
     "timestamp": 1618856362894,
     "user": {
      "displayName": "Ali Zain",
      "photoUrl": "",
      "userId": "05428374994241105854"
     },
     "user_tz": -300
    },
    "id": "16YREuX6fjrg",
    "outputId": "3b24e3d1-4465-4f8e-b9ad-5115ba0591dd"
   },
   "outputs": [
    {
     "name": "stdout",
     "output_type": "stream",
     "text": [
      "Please provide your Kaggle credentials to download this dataset. Learn more: http://bit.ly/kaggle-creds\n",
      "Your Kaggle username: ali1zain2\n",
      "Your Kaggle Key: ··········\n"
     ]
    },
    {
     "name": "stderr",
     "output_type": "stream",
     "text": [
      "  2%|▏         | 5.00M/299M [00:00<00:07, 39.0MB/s]"
     ]
    },
    {
     "name": "stdout",
     "output_type": "stream",
     "text": [
      "Downloading us-accidents.zip to ./us-accidents\n"
     ]
    },
    {
     "name": "stderr",
     "output_type": "stream",
     "text": [
      "100%|██████████| 299M/299M [00:02<00:00, 127MB/s]\n"
     ]
    },
    {
     "name": "stdout",
     "output_type": "stream",
     "text": [
      "\n"
     ]
    }
   ],
   "source": [
    "import opendatasets as od\n",
    "download_url=\"https://www.kaggle.com/sobhanmoosavi/us-accidents\"\n",
    "od.download(download_url) #key b136cf49ca51e4eafdf743978835f829"
   ]
  },
  {
   "cell_type": "code",
   "execution_count": 35,
   "metadata": {
    "executionInfo": {
     "elapsed": 944,
     "status": "ok",
     "timestamp": 1618856437495,
     "user": {
      "displayName": "Ali Zain",
      "photoUrl": "",
      "userId": "05428374994241105854"
     },
     "user_tz": -300
    },
    "id": "qWRrTI-Mf5MR"
   },
   "outputs": [],
   "source": [
    "data_filename = './us-accidents/US_Accidents_Dec20.csv'"
   ]
  },
  {
   "cell_type": "markdown",
   "metadata": {
    "id": "ZGdgByLxjWJP"
   },
   "source": [
    "#### Data Preparation and Cleaning\n",
    "- Load the file using Pandas\n",
    "- Look at some information about the data & the columns\n",
    "- Fix any missing or incorrect values "
   ]
  },
  {
   "cell_type": "code",
   "execution_count": 36,
   "metadata": {
    "executionInfo": {
     "elapsed": 782,
     "status": "ok",
     "timestamp": 1618856440008,
     "user": {
      "displayName": "Ali Zain",
      "photoUrl": "",
      "userId": "05428374994241105854"
     },
     "user_tz": -300
    },
    "id": "9xpFKpAqhy4g"
   },
   "outputs": [],
   "source": [
    "import pandas as pd"
   ]
  },
  {
   "cell_type": "code",
   "execution_count": 37,
   "metadata": {
    "executionInfo": {
     "elapsed": 30123,
     "status": "ok",
     "timestamp": 1618856470848,
     "user": {
      "displayName": "Ali Zain",
      "photoUrl": "",
      "userId": "05428374994241105854"
     },
     "user_tz": -300
    },
    "id": "boGcojlakKNr"
   },
   "outputs": [],
   "source": [
    "df = pd.read_csv(data_filename)"
   ]
  },
  {
   "cell_type": "code",
   "execution_count": 38,
   "metadata": {
    "colab": {
     "base_uri": "https://localhost:8080/"
    },
    "executionInfo": {
     "elapsed": 1362,
     "status": "ok",
     "timestamp": 1618856478157,
     "user": {
      "displayName": "Ali Zain",
      "photoUrl": "",
      "userId": "05428374994241105854"
     },
     "user_tz": -300
    },
    "id": "2BatuDFakTuK",
    "outputId": "ddc0415c-9a50-483d-fa54-9c01693dba66"
   },
   "outputs": [
    {
     "data": {
      "text/plain": [
       "(4232541, 49)"
      ]
     },
     "execution_count": 38,
     "metadata": {
      "tags": []
     },
     "output_type": "execute_result"
    }
   ],
   "source": [
    "df.columns\n",
    "df.shape"
   ]
  },
  {
   "cell_type": "code",
   "execution_count": 39,
   "metadata": {
    "colab": {
     "base_uri": "https://localhost:8080/"
    },
    "executionInfo": {
     "elapsed": 1141,
     "status": "ok",
     "timestamp": 1618856486712,
     "user": {
      "displayName": "Ali Zain",
      "photoUrl": "",
      "userId": "05428374994241105854"
     },
     "user_tz": -300
    },
    "id": "4fKsxhkEk7p_",
    "outputId": "41470e4f-8956-4baf-ea7e-a54e9c01338d"
   },
   "outputs": [
    {
     "name": "stdout",
     "output_type": "stream",
     "text": [
      "<class 'pandas.core.frame.DataFrame'>\n",
      "RangeIndex: 4232541 entries, 0 to 4232540\n",
      "Data columns (total 49 columns):\n",
      " #   Column                 Dtype  \n",
      "---  ------                 -----  \n",
      " 0   ID                     object \n",
      " 1   Source                 object \n",
      " 2   TMC                    float64\n",
      " 3   Severity               int64  \n",
      " 4   Start_Time             object \n",
      " 5   End_Time               object \n",
      " 6   Start_Lat              float64\n",
      " 7   Start_Lng              float64\n",
      " 8   End_Lat                float64\n",
      " 9   End_Lng                float64\n",
      " 10  Distance(mi)           float64\n",
      " 11  Description            object \n",
      " 12  Number                 float64\n",
      " 13  Street                 object \n",
      " 14  Side                   object \n",
      " 15  City                   object \n",
      " 16  County                 object \n",
      " 17  State                  object \n",
      " 18  Zipcode                object \n",
      " 19  Country                object \n",
      " 20  Timezone               object \n",
      " 21  Airport_Code           object \n",
      " 22  Weather_Timestamp      object \n",
      " 23  Temperature(F)         float64\n",
      " 24  Wind_Chill(F)          float64\n",
      " 25  Humidity(%)            float64\n",
      " 26  Pressure(in)           float64\n",
      " 27  Visibility(mi)         float64\n",
      " 28  Wind_Direction         object \n",
      " 29  Wind_Speed(mph)        float64\n",
      " 30  Precipitation(in)      float64\n",
      " 31  Weather_Condition      object \n",
      " 32  Amenity                bool   \n",
      " 33  Bump                   bool   \n",
      " 34  Crossing               bool   \n",
      " 35  Give_Way               bool   \n",
      " 36  Junction               bool   \n",
      " 37  No_Exit                bool   \n",
      " 38  Railway                bool   \n",
      " 39  Roundabout             bool   \n",
      " 40  Station                bool   \n",
      " 41  Stop                   bool   \n",
      " 42  Traffic_Calming        bool   \n",
      " 43  Traffic_Signal         bool   \n",
      " 44  Turning_Loop           bool   \n",
      " 45  Sunrise_Sunset         object \n",
      " 46  Civil_Twilight         object \n",
      " 47  Nautical_Twilight      object \n",
      " 48  Astronomical_Twilight  object \n",
      "dtypes: bool(13), float64(14), int64(1), object(21)\n",
      "memory usage: 1.2+ GB\n"
     ]
    }
   ],
   "source": [
    "df.info()"
   ]
  },
  {
   "cell_type": "code",
   "execution_count": 40,
   "metadata": {
    "colab": {
     "base_uri": "https://localhost:8080/",
     "height": 317
    },
    "executionInfo": {
     "elapsed": 3218,
     "status": "ok",
     "timestamp": 1618856488807,
     "user": {
      "displayName": "Ali Zain",
      "photoUrl": "",
      "userId": "05428374994241105854"
     },
     "user_tz": -300
    },
    "id": "srRFr0vslFHm",
    "outputId": "12e51707-3d46-47c9-a187-21c3adbf2b83"
   },
   "outputs": [
    {
     "data": {
      "text/html": [
       "<div>\n",
       "<style scoped>\n",
       "    .dataframe tbody tr th:only-of-type {\n",
       "        vertical-align: middle;\n",
       "    }\n",
       "\n",
       "    .dataframe tbody tr th {\n",
       "        vertical-align: top;\n",
       "    }\n",
       "\n",
       "    .dataframe thead th {\n",
       "        text-align: right;\n",
       "    }\n",
       "</style>\n",
       "<table border=\"1\" class=\"dataframe\">\n",
       "  <thead>\n",
       "    <tr style=\"text-align: right;\">\n",
       "      <th></th>\n",
       "      <th>TMC</th>\n",
       "      <th>Severity</th>\n",
       "      <th>Start_Lat</th>\n",
       "      <th>Start_Lng</th>\n",
       "      <th>End_Lat</th>\n",
       "      <th>End_Lng</th>\n",
       "      <th>Distance(mi)</th>\n",
       "      <th>Number</th>\n",
       "      <th>Temperature(F)</th>\n",
       "      <th>Wind_Chill(F)</th>\n",
       "      <th>Humidity(%)</th>\n",
       "      <th>Pressure(in)</th>\n",
       "      <th>Visibility(mi)</th>\n",
       "      <th>Wind_Speed(mph)</th>\n",
       "      <th>Precipitation(in)</th>\n",
       "    </tr>\n",
       "  </thead>\n",
       "  <tbody>\n",
       "    <tr>\n",
       "      <th>count</th>\n",
       "      <td>2.716477e+06</td>\n",
       "      <td>4.232541e+06</td>\n",
       "      <td>4.232541e+06</td>\n",
       "      <td>4.232541e+06</td>\n",
       "      <td>1.516064e+06</td>\n",
       "      <td>1.516064e+06</td>\n",
       "      <td>4.232541e+06</td>\n",
       "      <td>1.544592e+06</td>\n",
       "      <td>4.142641e+06</td>\n",
       "      <td>2.336540e+06</td>\n",
       "      <td>4.137074e+06</td>\n",
       "      <td>4.156157e+06</td>\n",
       "      <td>4.133873e+06</td>\n",
       "      <td>3.753215e+06</td>\n",
       "      <td>2.166952e+06</td>\n",
       "    </tr>\n",
       "    <tr>\n",
       "      <th>mean</th>\n",
       "      <td>2.083517e+02</td>\n",
       "      <td>2.305035e+00</td>\n",
       "      <td>3.639782e+01</td>\n",
       "      <td>-9.546420e+01</td>\n",
       "      <td>3.690061e+01</td>\n",
       "      <td>-9.859901e+01</td>\n",
       "      <td>3.357021e-01</td>\n",
       "      <td>6.141507e+03</td>\n",
       "      <td>6.147799e+01</td>\n",
       "      <td>5.489319e+01</td>\n",
       "      <td>6.567422e+01</td>\n",
       "      <td>2.969371e+01</td>\n",
       "      <td>9.111991e+00</td>\n",
       "      <td>7.903433e+00</td>\n",
       "      <td>1.244719e-02</td>\n",
       "    </tr>\n",
       "    <tr>\n",
       "      <th>std</th>\n",
       "      <td>2.124413e+01</td>\n",
       "      <td>5.332261e-01</td>\n",
       "      <td>4.964404e+00</td>\n",
       "      <td>1.735319e+01</td>\n",
       "      <td>5.165629e+00</td>\n",
       "      <td>1.849590e+01</td>\n",
       "      <td>1.602143e+00</td>\n",
       "      <td>1.492268e+04</td>\n",
       "      <td>1.852586e+01</td>\n",
       "      <td>2.272355e+01</td>\n",
       "      <td>2.272342e+01</td>\n",
       "      <td>8.639260e-01</td>\n",
       "      <td>2.817582e+00</td>\n",
       "      <td>5.330998e+00</td>\n",
       "      <td>1.637154e-01</td>\n",
       "    </tr>\n",
       "    <tr>\n",
       "      <th>min</th>\n",
       "      <td>2.000000e+02</td>\n",
       "      <td>1.000000e+00</td>\n",
       "      <td>2.455527e+01</td>\n",
       "      <td>-1.246238e+02</td>\n",
       "      <td>2.457011e+01</td>\n",
       "      <td>-1.244978e+02</td>\n",
       "      <td>0.000000e+00</td>\n",
       "      <td>0.000000e+00</td>\n",
       "      <td>-8.900000e+01</td>\n",
       "      <td>-8.900000e+01</td>\n",
       "      <td>1.000000e+00</td>\n",
       "      <td>0.000000e+00</td>\n",
       "      <td>0.000000e+00</td>\n",
       "      <td>0.000000e+00</td>\n",
       "      <td>0.000000e+00</td>\n",
       "    </tr>\n",
       "    <tr>\n",
       "      <th>25%</th>\n",
       "      <td>2.010000e+02</td>\n",
       "      <td>2.000000e+00</td>\n",
       "      <td>3.352058e+01</td>\n",
       "      <td>-1.173570e+02</td>\n",
       "      <td>3.385420e+01</td>\n",
       "      <td>-1.182077e+02</td>\n",
       "      <td>0.000000e+00</td>\n",
       "      <td>8.980000e+02</td>\n",
       "      <td>4.900000e+01</td>\n",
       "      <td>3.800000e+01</td>\n",
       "      <td>4.900000e+01</td>\n",
       "      <td>2.964000e+01</td>\n",
       "      <td>1.000000e+01</td>\n",
       "      <td>4.600000e+00</td>\n",
       "      <td>0.000000e+00</td>\n",
       "    </tr>\n",
       "    <tr>\n",
       "      <th>50%</th>\n",
       "      <td>2.010000e+02</td>\n",
       "      <td>2.000000e+00</td>\n",
       "      <td>3.582542e+01</td>\n",
       "      <td>-9.002078e+01</td>\n",
       "      <td>3.735134e+01</td>\n",
       "      <td>-9.437987e+01</td>\n",
       "      <td>0.000000e+00</td>\n",
       "      <td>2.890000e+03</td>\n",
       "      <td>6.300000e+01</td>\n",
       "      <td>5.800000e+01</td>\n",
       "      <td>6.800000e+01</td>\n",
       "      <td>2.993000e+01</td>\n",
       "      <td>1.000000e+01</td>\n",
       "      <td>7.000000e+00</td>\n",
       "      <td>0.000000e+00</td>\n",
       "    </tr>\n",
       "    <tr>\n",
       "      <th>75%</th>\n",
       "      <td>2.010000e+02</td>\n",
       "      <td>3.000000e+00</td>\n",
       "      <td>4.018313e+01</td>\n",
       "      <td>-8.084682e+01</td>\n",
       "      <td>4.072593e+01</td>\n",
       "      <td>-8.087449e+01</td>\n",
       "      <td>8.900000e-02</td>\n",
       "      <td>7.330000e+03</td>\n",
       "      <td>7.520000e+01</td>\n",
       "      <td>7.300000e+01</td>\n",
       "      <td>8.500000e+01</td>\n",
       "      <td>3.008000e+01</td>\n",
       "      <td>1.000000e+01</td>\n",
       "      <td>1.040000e+01</td>\n",
       "      <td>0.000000e+00</td>\n",
       "    </tr>\n",
       "    <tr>\n",
       "      <th>max</th>\n",
       "      <td>4.060000e+02</td>\n",
       "      <td>4.000000e+00</td>\n",
       "      <td>4.900220e+01</td>\n",
       "      <td>-6.711317e+01</td>\n",
       "      <td>4.907500e+01</td>\n",
       "      <td>-6.710924e+01</td>\n",
       "      <td>4.417500e+02</td>\n",
       "      <td>9.999997e+06</td>\n",
       "      <td>2.030000e+02</td>\n",
       "      <td>1.890000e+02</td>\n",
       "      <td>1.000000e+02</td>\n",
       "      <td>5.804000e+01</td>\n",
       "      <td>1.400000e+02</td>\n",
       "      <td>9.840000e+02</td>\n",
       "      <td>2.500000e+01</td>\n",
       "    </tr>\n",
       "  </tbody>\n",
       "</table>\n",
       "</div>"
      ],
      "text/plain": [
       "                TMC      Severity  ...  Wind_Speed(mph)  Precipitation(in)\n",
       "count  2.716477e+06  4.232541e+06  ...     3.753215e+06       2.166952e+06\n",
       "mean   2.083517e+02  2.305035e+00  ...     7.903433e+00       1.244719e-02\n",
       "std    2.124413e+01  5.332261e-01  ...     5.330998e+00       1.637154e-01\n",
       "min    2.000000e+02  1.000000e+00  ...     0.000000e+00       0.000000e+00\n",
       "25%    2.010000e+02  2.000000e+00  ...     4.600000e+00       0.000000e+00\n",
       "50%    2.010000e+02  2.000000e+00  ...     7.000000e+00       0.000000e+00\n",
       "75%    2.010000e+02  3.000000e+00  ...     1.040000e+01       0.000000e+00\n",
       "max    4.060000e+02  4.000000e+00  ...     9.840000e+02       2.500000e+01\n",
       "\n",
       "[8 rows x 15 columns]"
      ]
     },
     "execution_count": 40,
     "metadata": {
      "tags": []
     },
     "output_type": "execute_result"
    }
   ],
   "source": [
    "df.describe()"
   ]
  },
  {
   "cell_type": "code",
   "execution_count": 41,
   "metadata": {
    "colab": {
     "base_uri": "https://localhost:8080/"
    },
    "executionInfo": {
     "elapsed": 3204,
     "status": "ok",
     "timestamp": 1618856488808,
     "user": {
      "displayName": "Ali Zain",
      "photoUrl": "",
      "userId": "05428374994241105854"
     },
     "user_tz": -300
    },
    "id": "JvYEgh7Wlj64",
    "outputId": "53754c93-6ffd-4194-8f5a-2075dccd46cc"
   },
   "outputs": [
    {
     "data": {
      "text/plain": [
       "15"
      ]
     },
     "execution_count": 41,
     "metadata": {
      "tags": []
     },
     "output_type": "execute_result"
    }
   ],
   "source": [
    "numerics = ['int16' , 'int32' , 'int64' , 'float16' , 'float32' , 'float64']\n",
    "\n",
    "numeric_df = df.select_dtypes(include=numerics)\n",
    "len(numeric_df.columns)"
   ]
  },
  {
   "cell_type": "code",
   "execution_count": 42,
   "metadata": {
    "colab": {
     "base_uri": "https://localhost:8080/",
     "height": 282
    },
    "executionInfo": {
     "elapsed": 6628,
     "status": "ok",
     "timestamp": 1618856492247,
     "user": {
      "displayName": "Ali Zain",
      "photoUrl": "",
      "userId": "05428374994241105854"
     },
     "user_tz": -300
    },
    "id": "3fD8x3M7nnj2",
    "outputId": "0d5b2fdb-5db8-437a-87c5-e13315dc66db"
   },
   "outputs": [
    {
     "data": {
      "text/plain": [
       "<matplotlib.axes._subplots.AxesSubplot at 0x7f9282e6fa50>"
      ]
     },
     "execution_count": 42,
     "metadata": {
      "tags": []
     },
     "output_type": "execute_result"
    },
    {
     "data": {
      "image/png": "[encoded data removed]",
      "text/plain": [
       "<Figure size 432x288 with 1 Axes>"
      ]
     },
     "metadata": {
      "tags": []
     },
     "output_type": "display_data"
    }
   ],
   "source": [
    "missing_per = df.isna().sum().sort_values(ascending=False)/len(df)\n",
    "missing_per[missing_per !=0].plot(kind=\"barh\")"
   ]
  },
  {
   "cell_type": "code",
   "execution_count": 42,
   "metadata": {
    "executionInfo": {
     "elapsed": 6616,
     "status": "ok",
     "timestamp": 1618856492250,
     "user": {
      "displayName": "Ali Zain",
      "photoUrl": "",
      "userId": "05428374994241105854"
     },
     "user_tz": -300
    },
    "id": "wnOiGAx_pSga"
   },
   "outputs": [],
   "source": []
  },
  {
   "cell_type": "markdown",
   "metadata": {
    "id": "r9GmxVWbsWqM"
   },
   "source": [
    "#### Exploratory Analysis and Visualization\n",
    "\n",
    "##### Columns we will analyse\n",
    "1. City\n",
    "2. Start Time\n",
    "3. Start Lat and Start lng\n",
    "4. Temperature\n",
    "5. Weather"
   ]
  },
  {
   "cell_type": "code",
   "execution_count": 43,
   "metadata": {
    "colab": {
     "base_uri": "https://localhost:8080/"
    },
    "executionInfo": {
     "elapsed": 7144,
     "status": "ok",
     "timestamp": 1618856492787,
     "user": {
      "displayName": "Ali Zain",
      "photoUrl": "",
      "userId": "05428374994241105854"
     },
     "user_tz": -300
    },
    "id": "0BV_585Tsbfa",
    "outputId": "769ee46b-115b-47b4-cd8b-e4633fd8d44c"
   },
   "outputs": [
    {
     "data": {
      "text/plain": [
       "Index(['ID', 'Source', 'TMC', 'Severity', 'Start_Time', 'End_Time',\n",
       "       'Start_Lat', 'Start_Lng', 'End_Lat', 'End_Lng', 'Distance(mi)',\n",
       "       'Description', 'Number', 'Street', 'Side', 'City', 'County', 'State',\n",
       "       'Zipcode', 'Country', 'Timezone', 'Airport_Code', 'Weather_Timestamp',\n",
       "       'Temperature(F)', 'Wind_Chill(F)', 'Humidity(%)', 'Pressure(in)',\n",
       "       'Visibility(mi)', 'Wind_Direction', 'Wind_Speed(mph)',\n",
       "       'Precipitation(in)', 'Weather_Condition', 'Amenity', 'Bump', 'Crossing',\n",
       "       'Give_Way', 'Junction', 'No_Exit', 'Railway', 'Roundabout', 'Station',\n",
       "       'Stop', 'Traffic_Calming', 'Traffic_Signal', 'Turning_Loop',\n",
       "       'Sunrise_Sunset', 'Civil_Twilight', 'Nautical_Twilight',\n",
       "       'Astronomical_Twilight'],\n",
       "      dtype='object')"
      ]
     },
     "execution_count": 43,
     "metadata": {
      "tags": []
     },
     "output_type": "execute_result"
    }
   ],
   "source": [
    "df.columns"
   ]
  },
  {
   "cell_type": "code",
   "execution_count": 44,
   "metadata": {
    "colab": {
     "base_uri": "https://localhost:8080/"
    },
    "executionInfo": {
     "elapsed": 7132,
     "status": "ok",
     "timestamp": 1618856492788,
     "user": {
      "displayName": "Ali Zain",
      "photoUrl": "",
      "userId": "05428374994241105854"
     },
     "user_tz": -300
    },
    "id": "_G5gUyuuwGiF",
    "outputId": "583a1672-6daa-4eae-97e2-01af047aaaff"
   },
   "outputs": [
    {
     "data": {
      "text/plain": [
       "False"
      ]
     },
     "execution_count": 44,
     "metadata": {
      "tags": []
     },
     "output_type": "execute_result"
    }
   ],
   "source": [
    "\"New York\" in df.City"
   ]
  },
  {
   "cell_type": "code",
   "execution_count": 45,
   "metadata": {
    "colab": {
     "base_uri": "https://localhost:8080/"
    },
    "executionInfo": {
     "elapsed": 7120,
     "status": "ok",
     "timestamp": 1618856492790,
     "user": {
      "displayName": "Ali Zain",
      "photoUrl": "",
      "userId": "05428374994241105854"
     },
     "user_tz": -300
    },
    "id": "9Zl9tMMkscnW",
    "outputId": "2e843c6a-d685-45ba-bfb1-d82b31e341ca"
   },
   "outputs": [
    {
     "data": {
      "text/plain": [
       "12251"
      ]
     },
     "execution_count": 45,
     "metadata": {
      "tags": []
     },
     "output_type": "execute_result"
    }
   ],
   "source": [
    "cities = df.City.unique()\n",
    "len(cities)"
   ]
  },
  {
   "cell_type": "code",
   "execution_count": 46,
   "metadata": {
    "colab": {
     "base_uri": "https://localhost:8080/"
    },
    "executionInfo": {
     "elapsed": 8266,
     "status": "ok",
     "timestamp": 1618856493950,
     "user": {
      "displayName": "Ali Zain",
      "photoUrl": "",
      "userId": "05428374994241105854"
     },
     "user_tz": -300
    },
    "id": "zm6K40h3tWcY",
    "outputId": "7cfe0835-59ab-43bd-c277-ea09811c47c0"
   },
   "outputs": [
    {
     "data": {
      "text/plain": [
       "Houston          114905\n",
       "Los Angeles       92701\n",
       "Charlotte         88887\n",
       "Dallas            77303\n",
       "Austin            70538\n",
       "Miami             63162\n",
       "Raleigh           52876\n",
       "Atlanta           46328\n",
       "Baton Rouge       42814\n",
       "Nashville         41850\n",
       "Orlando           39561\n",
       "Oklahoma City     39484\n",
       "Sacramento        38061\n",
       "Phoenix           32805\n",
       "Minneapolis       31781\n",
       "San Diego         29416\n",
       "Seattle           28004\n",
       "Richmond          27907\n",
       "San Antonio       27516\n",
       "Jacksonville      24009\n",
       "Name: City, dtype: int64"
      ]
     },
     "execution_count": 46,
     "metadata": {
      "tags": []
     },
     "output_type": "execute_result"
    }
   ],
   "source": [
    "cities_by_accident = df.City.value_counts()\n",
    "cities_by_accident.head(20)"
   ]
  },
  {
   "cell_type": "code",
   "execution_count": 47,
   "metadata": {
    "colab": {
     "base_uri": "https://localhost:8080/",
     "height": 282
    },
    "executionInfo": {
     "elapsed": 8256,
     "status": "ok",
     "timestamp": 1618856493959,
     "user": {
      "displayName": "Ali Zain",
      "photoUrl": "",
      "userId": "05428374994241105854"
     },
     "user_tz": -300
    },
    "id": "RzjuvucEvaLm",
    "outputId": "42673030-2a87-4707-d8dd-22feec6d7575"
   },
   "outputs": [
    {
     "data": {
      "text/plain": [
       "<matplotlib.axes._subplots.AxesSubplot at 0x7f92d20d1890>"
      ]
     },
     "execution_count": 47,
     "metadata": {
      "tags": []
     },
     "output_type": "execute_result"
    },
    {
     "data": {
      "image/png": "[encoded data removed]",
      "text/plain": [
       "<Figure size 432x288 with 1 Axes>"
      ]
     },
     "metadata": {
      "tags": []
     },
     "output_type": "display_data"
    }
   ],
   "source": [
    "cities_by_accident.head(20).plot(kind=\"barh\")"
   ]
  },
  {
   "cell_type": "code",
   "execution_count": 48,
   "metadata": {
    "executionInfo": {
     "elapsed": 8244,
     "status": "ok",
     "timestamp": 1618856493960,
     "user": {
      "displayName": "Ali Zain",
      "photoUrl": "",
      "userId": "05428374994241105854"
     },
     "user_tz": -300
    },
    "id": "6KvKb7nExqe8"
   },
   "outputs": [],
   "source": [
    "import seaborn as sns "
   ]
  },
  {
   "cell_type": "code",
   "execution_count": 49,
   "metadata": {
    "colab": {
     "base_uri": "https://localhost:8080/",
     "height": 300
    },
    "executionInfo": {
     "elapsed": 9187,
     "status": "ok",
     "timestamp": 1618856494916,
     "user": {
      "displayName": "Ali Zain",
      "photoUrl": "",
      "userId": "05428374994241105854"
     },
     "user_tz": -300
    },
    "id": "j_JfMjNa2w26",
    "outputId": "d49bb72b-6c5e-45f1-bd98-d44c7ea6c8db"
   },
   "outputs": [
    {
     "data": {
      "text/plain": [
       "<matplotlib.axes._subplots.AxesSubplot at 0x7f9282ec3f10>"
      ]
     },
     "execution_count": 49,
     "metadata": {
      "tags": []
     },
     "output_type": "execute_result"
    },
    {
     "data": {
      "image/png": "[encoded data removed]",
      "text/plain": [
       "<Figure size 432x288 with 1 Axes>"
      ]
     },
     "metadata": {
      "tags": []
     },
     "output_type": "display_data"
    }
   ],
   "source": [
    "sns.set_style(\"darkgrid\")\n",
    "sns.histplot(cities_by_accident,log_scale=True)"
   ]
  },
  {
   "cell_type": "code",
   "execution_count": 50,
   "metadata": {
    "colab": {
     "base_uri": "https://localhost:8080/",
     "height": 300
    },
    "executionInfo": {
     "elapsed": 9911,
     "status": "ok",
     "timestamp": 1618856495662,
     "user": {
      "displayName": "Ali Zain",
      "photoUrl": "",
      "userId": "05428374994241105854"
     },
     "user_tz": -300
    },
    "id": "rw8Gubfp20v5",
    "outputId": "0df0ef84-45d2-4bfa-83ad-5f6c4b83c20e"
   },
   "outputs": [
    {
     "data": {
      "text/plain": [
       "<matplotlib.axes._subplots.AxesSubplot at 0x7f92cb796290>"
      ]
     },
     "execution_count": 50,
     "metadata": {
      "tags": []
     },
     "output_type": "execute_result"
    },
    {
     "data": {
      "image/png": "[encoded data removed]",
      "text/plain": [
       "<Figure size 432x288 with 1 Axes>"
      ]
     },
     "metadata": {
      "tags": []
     },
     "output_type": "display_data"
    }
   ],
   "source": [
    "high_accident_cities = cities_by_accident[cities_by_accident >=1000]\n",
    "low_accident_cities = cities_by_accident[cities_by_accident <1000]  \n",
    "sns.histplot(high_accident_cities, log_scale=True)"
   ]
  },
  {
   "cell_type": "markdown",
   "metadata": {
    "id": "dSd_jEq0qRd0"
   },
   "source": [
    "##### Start time"
   ]
  },
  {
   "cell_type": "code",
   "execution_count": 51,
   "metadata": {
    "colab": {
     "base_uri": "https://localhost:8080/",
     "height": 35
    },
    "executionInfo": {
     "elapsed": 9901,
     "status": "ok",
     "timestamp": 1618856495668,
     "user": {
      "displayName": "Ali Zain",
      "photoUrl": "",
      "userId": "05428374994241105854"
     },
     "user_tz": -300
    },
    "id": "l2VV9R-IoqBO",
    "outputId": "cb1f30b0-d19a-461b-f110-629c7cb54388"
   },
   "outputs": [
    {
     "data": {
      "application/vnd.google.colaboratory.intrinsic+json": {
       "type": "string"
      },
      "text/plain": [
       "'2016-02-08 06:07:59'"
      ]
     },
     "execution_count": 51,
     "metadata": {
      "tags": []
     },
     "output_type": "execute_result"
    }
   ],
   "source": [
    "df.Start_Time\n",
    "df.Start_Time[1] ##YY-MM-DD Time"
   ]
  },
  {
   "cell_type": "code",
   "execution_count": 52,
   "metadata": {
    "colab": {
     "base_uri": "https://localhost:8080/",
     "height": 351
    },
    "executionInfo": {
     "elapsed": 12004,
     "status": "ok",
     "timestamp": 1618856497789,
     "user": {
      "displayName": "Ali Zain",
      "photoUrl": "",
      "userId": "05428374994241105854"
     },
     "user_tz": -300
    },
    "id": "2Or_sLeqop_h",
    "outputId": "20541d1c-9d36-437c-9cda-50f2dea7ba97"
   },
   "outputs": [
    {
     "name": "stderr",
     "output_type": "stream",
     "text": [
      "/usr/local/lib/python3.7/dist-packages/seaborn/distributions.py:2557: FutureWarning: `distplot` is a deprecated function and will be removed in a future version. Please adapt your code to use either `displot` (a figure-level function with similar flexibility) or `histplot` (an axes-level function for histograms).\n",
      "  warnings.warn(msg, FutureWarning)\n"
     ]
    },
    {
     "data": {
      "text/plain": [
       "<matplotlib.axes._subplots.AxesSubplot at 0x7f928b935410>"
      ]
     },
     "execution_count": 52,
     "metadata": {
      "tags": []
     },
     "output_type": "execute_result"
    },
    {
     "data": {
      "image/png": "[encoded data removed]",
      "text/plain": [
       "<Figure size 432x288 with 1 Axes>"
      ]
     },
     "metadata": {
      "tags": []
     },
     "output_type": "display_data"
    }
   ],
   "source": [
    "df.Start_Time = pd.to_datetime(df.Start_Time)\n",
    "sns.distplot(df.Start_Time.dt.hour,bins=24,kde=False,norm_hist=True)"
   ]
  },
  {
   "cell_type": "markdown",
   "metadata": {
    "id": "M2Z4v6rrvzj3"
   },
   "source": [
    "- Highest percentage of accidents occur between 6am to 10 am \n",
    "- Next Highest percentage of accidents occur between 3pm to 6pm"
   ]
  },
  {
   "cell_type": "code",
   "execution_count": 53,
   "metadata": {
    "colab": {
     "base_uri": "https://localhost:8080/",
     "height": 351
    },
    "executionInfo": {
     "elapsed": 12781,
     "status": "ok",
     "timestamp": 1618856498588,
     "user": {
      "displayName": "Ali Zain",
      "photoUrl": "",
      "userId": "05428374994241105854"
     },
     "user_tz": -300
    },
    "id": "46Ouoac6RP6c",
    "outputId": "26511b62-b85c-483a-fd31-4320ec4e089d"
   },
   "outputs": [
    {
     "name": "stderr",
     "output_type": "stream",
     "text": [
      "/usr/local/lib/python3.7/dist-packages/seaborn/distributions.py:2557: FutureWarning: `distplot` is a deprecated function and will be removed in a future version. Please adapt your code to use either `displot` (a figure-level function with similar flexibility) or `histplot` (an axes-level function for histograms).\n",
      "  warnings.warn(msg, FutureWarning)\n"
     ]
    },
    {
     "data": {
      "text/plain": [
       "<matplotlib.axes._subplots.AxesSubplot at 0x7f928b99ab50>"
      ]
     },
     "execution_count": 53,
     "metadata": {
      "tags": []
     },
     "output_type": "execute_result"
    },
    {
     "data": {
      "image/png": "[encoded data removed]",
      "text/plain": [
       "<Figure size 432x288 with 1 Axes>"
      ]
     },
     "metadata": {
      "tags": []
     },
     "output_type": "display_data"
    }
   ],
   "source": [
    "sns.distplot(df.Start_Time.dt.dayofweek,bins=7,kde=False,norm_hist=True)"
   ]
  },
  {
   "cell_type": "code",
   "execution_count": 54,
   "metadata": {
    "colab": {
     "base_uri": "https://localhost:8080/",
     "height": 351
    },
    "executionInfo": {
     "elapsed": 13725,
     "status": "ok",
     "timestamp": 1618856499548,
     "user": {
      "displayName": "Ali Zain",
      "photoUrl": "",
      "userId": "05428374994241105854"
     },
     "user_tz": -300
    },
    "id": "pLnueVcZ7W1B",
    "outputId": "29a6c0f5-8551-4682-bf4a-5eeb42bf9a46"
   },
   "outputs": [
    {
     "name": "stderr",
     "output_type": "stream",
     "text": [
      "/usr/local/lib/python3.7/dist-packages/seaborn/distributions.py:2557: FutureWarning: `distplot` is a deprecated function and will be removed in a future version. Please adapt your code to use either `displot` (a figure-level function with similar flexibility) or `histplot` (an axes-level function for histograms).\n",
      "  warnings.warn(msg, FutureWarning)\n"
     ]
    },
    {
     "data": {
      "text/plain": [
       "<matplotlib.axes._subplots.AxesSubplot at 0x7f928b9325d0>"
      ]
     },
     "execution_count": 54,
     "metadata": {
      "tags": []
     },
     "output_type": "execute_result"
    },
    {
     "data": {
      "image/png": "[encoded data removed]",
      "text/plain": [
       "<Figure size 432x288 with 1 Axes>"
      ]
     },
     "metadata": {
      "tags": []
     },
     "output_type": "display_data"
    }
   ],
   "source": [
    "sunday_start_time = df.Start_Time[df.Start_Time.dt.dayofweek == 6]\n",
    "sns.distplot(sunday_start_time.dt.hour,bins=24,kde=False,norm_hist=True)"
   ]
  },
  {
   "cell_type": "code",
   "execution_count": 55,
   "metadata": {
    "colab": {
     "base_uri": "https://localhost:8080/",
     "height": 352
    },
    "executionInfo": {
     "elapsed": 14539,
     "status": "ok",
     "timestamp": 1618856500387,
     "user": {
      "displayName": "Ali Zain",
      "photoUrl": "",
      "userId": "05428374994241105854"
     },
     "user_tz": -300
    },
    "id": "AM1ub8t67Wwd",
    "outputId": "135b0039-a650-4a6f-f673-e278c57f83fe"
   },
   "outputs": [
    {
     "name": "stderr",
     "output_type": "stream",
     "text": [
      "/usr/local/lib/python3.7/dist-packages/seaborn/distributions.py:2557: FutureWarning: `distplot` is a deprecated function and will be removed in a future version. Please adapt your code to use either `displot` (a figure-level function with similar flexibility) or `histplot` (an axes-level function for histograms).\n",
      "  warnings.warn(msg, FutureWarning)\n"
     ]
    },
    {
     "data": {
      "text/plain": [
       "<matplotlib.axes._subplots.AxesSubplot at 0x7f92d20ac810>"
      ]
     },
     "execution_count": 55,
     "metadata": {
      "tags": []
     },
     "output_type": "execute_result"
    },
    {
     "data": {
      "image/png": "[encoded data removed]",
      "text/plain": [
       "<Figure size 432x288 with 1 Axes>"
      ]
     },
     "metadata": {
      "tags": []
     },
     "output_type": "display_data"
    }
   ],
   "source": [
    "monday_start_time = df.Start_Time[df.Start_Time.dt.dayofweek == 0]\n",
    "sns.distplot(monday_start_time.dt.hour,bins=24,kde=False,norm_hist=True)"
   ]
  },
  {
   "cell_type": "code",
   "execution_count": 67,
   "metadata": {
    "colab": {
     "base_uri": "https://localhost:8080/",
     "height": 351
    },
    "executionInfo": {
     "elapsed": 2168,
     "status": "ok",
     "timestamp": 1618857032418,
     "user": {
      "displayName": "Ali Zain",
      "photoUrl": "",
      "userId": "05428374994241105854"
     },
     "user_tz": -300
    },
    "id": "pZitKqX57Wrf",
    "outputId": "0d1f0765-fd65-4b4d-95a4-0b5d6eaca76f"
   },
   "outputs": [
    {
     "name": "stderr",
     "output_type": "stream",
     "text": [
      "/usr/local/lib/python3.7/dist-packages/seaborn/distributions.py:2557: FutureWarning: `distplot` is a deprecated function and will be removed in a future version. Please adapt your code to use either `displot` (a figure-level function with similar flexibility) or `histplot` (an axes-level function for histograms).\n",
      "  warnings.warn(msg, FutureWarning)\n"
     ]
    },
    {
     "data": {
      "text/plain": [
       "<matplotlib.axes._subplots.AxesSubplot at 0x7f92880bec10>"
      ]
     },
     "execution_count": 67,
     "metadata": {
      "tags": []
     },
     "output_type": "execute_result"
    },
    {
     "data": {
      "image/png": "[encoded data removed]",
      "text/plain": [
       "<Figure size 432x288 with 1 Axes>"
      ]
     },
     "metadata": {
      "tags": []
     },
     "output_type": "display_data"
    }
   ],
   "source": [
    "df_2019 = df[df.Start_Time.dt.year == 2019]\n",
    "df_2019_Bing = df_2019[df_2019.Source == \"Bing\"]\n",
    "sns.distplot(df_2019_Bing.Start_Time.dt.month, bins=12, kde=False, norm_hist=True)"
   ]
  },
  {
   "cell_type": "markdown",
   "metadata": {
    "id": "Pnice_E-Xo6F"
   },
   "source": [
    "- Data from year 2016 and 2017 is missing \n",
    "\n"
   ]
  },
  {
   "cell_type": "code",
   "execution_count": 68,
   "metadata": {
    "colab": {
     "base_uri": "https://localhost:8080/",
     "height": 265
    },
    "executionInfo": {
     "elapsed": 1249,
     "status": "ok",
     "timestamp": 1618857164331,
     "user": {
      "displayName": "Ali Zain",
      "photoUrl": "",
      "userId": "05428374994241105854"
     },
     "user_tz": -300
    },
    "id": "a93WNGl27WjB",
    "outputId": "68e60f26-2cc2-499f-c249-ba2f17d173eb"
   },
   "outputs": [
    {
     "data": {
      "text/plain": [
       "<matplotlib.axes._subplots.AxesSubplot at 0x7f9288c54510>"
      ]
     },
     "execution_count": 68,
     "metadata": {
      "tags": []
     },
     "output_type": "execute_result"
    },
    {
     "data": {
      "image/png": "[encoded data removed]",
      "text/plain": [
       "<Figure size 432x288 with 1 Axes>"
      ]
     },
     "metadata": {
      "tags": []
     },
     "output_type": "display_data"
    }
   ],
   "source": [
    "df.Source.value_counts().plot(kind=\"pie\")"
   ]
  },
  {
   "cell_type": "markdown",
   "metadata": {
    "id": "zLaz0CMWaeLg"
   },
   "source": [
    "#### Start Latitude and Longitude "
   ]
  },
  {
   "cell_type": "code",
   "execution_count": 70,
   "metadata": {
    "colab": {
     "base_uri": "https://localhost:8080/"
    },
    "executionInfo": {
     "elapsed": 835,
     "status": "ok",
     "timestamp": 1618857321824,
     "user": {
      "displayName": "Ali Zain",
      "photoUrl": "",
      "userId": "05428374994241105854"
     },
     "user_tz": -300
    },
    "id": "uXF_8-ZKad2G",
    "outputId": "9896fe37-fc8c-439e-f311-844042d33742"
   },
   "outputs": [
    {
     "data": {
      "text/plain": [
       "0          39.865147\n",
       "1          39.928059\n",
       "2          39.063148\n",
       "3          39.747753\n",
       "4          39.627781\n",
       "             ...    \n",
       "4232536    34.002480\n",
       "4232537    32.766960\n",
       "4232538    33.775450\n",
       "4232539    33.992460\n",
       "4232540    34.133930\n",
       "Name: Start_Lat, Length: 4232541, dtype: float64"
      ]
     },
     "execution_count": 70,
     "metadata": {
      "tags": []
     },
     "output_type": "execute_result"
    }
   ],
   "source": [
    "df.Start_Lat"
   ]
  },
  {
   "cell_type": "code",
   "execution_count": 72,
   "metadata": {
    "colab": {
     "base_uri": "https://localhost:8080/"
    },
    "executionInfo": {
     "elapsed": 765,
     "status": "ok",
     "timestamp": 1618857345975,
     "user": {
      "displayName": "Ali Zain",
      "photoUrl": "",
      "userId": "05428374994241105854"
     },
     "user_tz": -300
    },
    "id": "Td2YrjNZ7Wal",
    "outputId": "8e4ae65f-9a44-477b-d39e-f201797d0094"
   },
   "outputs": [
    {
     "data": {
      "text/plain": [
       "0          -84.058723\n",
       "1          -82.831184\n",
       "2          -84.032608\n",
       "3          -84.205582\n",
       "4          -84.188354\n",
       "              ...    \n",
       "4232536   -117.379360\n",
       "4232537   -117.148060\n",
       "4232538   -117.847790\n",
       "4232539   -118.403020\n",
       "4232540   -117.230920\n",
       "Name: Start_Lng, Length: 4232541, dtype: float64"
      ]
     },
     "execution_count": 72,
     "metadata": {
      "tags": []
     },
     "output_type": "execute_result"
    }
   ],
   "source": [
    "df.Start_Lng"
   ]
  },
  {
   "cell_type": "code",
   "execution_count": 91,
   "metadata": {
    "executionInfo": {
     "elapsed": 810,
     "status": "ok",
     "timestamp": 1618858650710,
     "user": {
      "displayName": "Ali Zain",
      "photoUrl": "",
      "userId": "05428374994241105854"
     },
     "user_tz": -300
    },
    "id": "bjm39nDTauhm"
   },
   "outputs": [],
   "source": [
    "from folium import plugins\n",
    "from folium.plugins import HeatMap"
   ]
  },
  {
   "cell_type": "code",
   "execution_count": 92,
   "metadata": {
    "colab": {
     "base_uri": "https://localhost:8080/"
    },
    "executionInfo": {
     "elapsed": 921,
     "status": "ok",
     "timestamp": 1618858654454,
     "user": {
      "displayName": "Ali Zain",
      "photoUrl": "",
      "userId": "05428374994241105854"
     },
     "user_tz": -300
    },
    "id": "g6GHA8VLaubw",
    "outputId": "c9db936b-f741-4622-f425-43eb499ed6ed"
   },
   "outputs": [
    {
     "data": {
      "text/plain": [
       "(39.865147, -84.058723)"
      ]
     },
     "execution_count": 92,
     "metadata": {
      "tags": []
     },
     "output_type": "execute_result"
    }
   ],
   "source": [
    "lat,lng = df.Start_Lat[0], df.Start_Lng[0]\n",
    "lat, lng\n"
   ]
  },
  {
   "cell_type": "code",
   "execution_count": 102,
   "metadata": {
    "executionInfo": {
     "elapsed": 1083,
     "status": "ok",
     "timestamp": 1618859437548,
     "user": {
      "displayName": "Ali Zain",
      "photoUrl": "",
      "userId": "05428374994241105854"
     },
     "user_tz": -300
    },
    "id": "0ohw7MZee1D4"
   },
   "outputs": [],
   "source": [
    "sample_df = df.sample(int(0.0004 * len(df)))\n",
    "heatmap_data = list(zip(list(sample_df.Start_Lat),list(sample_df.Start_Lng)))"
   ]
  },
  {
   "cell_type": "code",
   "execution_count": 103,
   "metadata": {
    "colab": {
     "base_uri": "https://localhost:8080/",
     "height": 866
    },
    "executionInfo": {
     "elapsed": 908,
     "status": "ok",
     "timestamp": 1618859439175,
     "user": {
      "displayName": "Ali Zain",
      "photoUrl": "",
      "userId": "05428374994241105854"
     },
     "user_tz": -300
    },
    "id": "q8UTUfRgauey",
    "outputId": "4d5785b3-58e8-4925-b1e0-13d63e2f6df0"
   },
   "outputs": [
    {
     "data": {
      "text/html": [
       "<div style=\"width:100%;\"><div style=\"position:relative;width:100%;height:0;padding-bottom:60%;\"><span style=\"color:#565656\">Make this Notebook Trusted to load map: File -> Trust Notebook</span><iframe src=\"about:blank\" style=\"position:absolute;width:100%;height:100%;left:0;top:0;border:none !important;\" data-html=%3C%21DOCTYPE%20html%3E%0A%3Chead%3E%20%20%20%20%0A%20%20%20%20%3Cmeta%20http-equiv%3D%22content-type%22%20content%3D%22text/html%3B%20charset%3DUTF-8%22%20/%3E%0A%20%20%20%20%3Cscript%3EL_PREFER_CANVAS%3Dfalse%3B%20L_NO_TOUCH%3Dfalse%3B%20L_DISABLE_3D%3Dfalse%3B%3C/script%3E%0A%20%20%20%20%3Cscript%20src%3D%22https%3A//cdn.jsdelivr.net/npm/leaflet%401.4.0/dist/leaflet.js%22%3E%3C/script%3E%0A%20%20%20%20%3Cscript%20src%3D%22https%3A//code.jquery.com/jquery-1.12.4.min.js%22%3E%3C/script%3E%0A%20%20%20%20%3Cscript%20src%3D%22https%3A//maxcdn.bootstrapcdn.com/bootstrap/3.2.0/js/bootstrap.min.js%22%3E%3C/script%3E%0A%20%20%20%20%3Cscript%20src%3D%22https%3A//cdnjs.cloudflare.com/ajax/libs/Leaflet.awesome-markers/2.0.2/leaflet.awesome-markers.js%22%3E%3C/script%3E%0A%20%20%20%20%3Clink%20rel%3D%22stylesheet%22%20href%3D%22https%3A//cdn.jsdelivr.net/npm/leaflet%401.4.0/dist/leaflet.css%22/%3E%0A%20%20%20%20%3Clink%20rel%3D%22stylesheet%22%20href%3D%22https%3A//maxcdn.bootstrapcdn.com/bootstrap/3.2.0/css/bootstrap.min.css%22/%3E%0A%20%20%20%20%3Clink%20rel%3D%22stylesheet%22%20href%3D%22https%3A//maxcdn.bootstrapcdn.com/bootstrap/3.2.0/css/bootstrap-theme.min.css%22/%3E%0A%20%20%20%20%3Clink%20rel%3D%22stylesheet%22%20href%3D%22https%3A//maxcdn.bootstrapcdn.com/font-awesome/4.6.3/css/font-awesome.min.css%22/%3E%0A%20%20%20%20%3Clink%20rel%3D%22stylesheet%22%20href%3D%22https%3A//cdnjs.cloudflare.com/ajax/libs/Leaflet.awesome-markers/2.0.2/leaflet.awesome-markers.css%22/%3E%0A%20%20%20%20%3Clink%20rel%3D%22stylesheet%22%20href%3D%22https%3A//rawcdn.githack.com/python-visualization/folium/master/folium/templates/leaflet.awesome.rotate.css%22/%3E%0A%20%20%20%20%3Cstyle%3Ehtml%2C%20body%20%7Bwidth%3A%20100%25%3Bheight%3A%20100%25%3Bmargin%3A%200%3Bpadding%3A%200%3B%7D%3C/style%3E%0A%20%20%20%20%3Cstyle%3E%23map%20%7Bposition%3Aabsolute%3Btop%3A0%3Bbottom%3A0%3Bright%3A0%3Bleft%3A0%3B%7D%3C/style%3E%0A%20%20%20%20%0A%20%20%20%20%3Cmeta%20name%3D%22viewport%22%20content%3D%22width%3Ddevice-width%2C%0A%20%20%20%20%20%20%20%20initial-scale%3D1.0%2C%20maximum-scale%3D1.0%2C%20user-scalable%3Dno%22%20/%3E%0A%20%20%20%20%3Cstyle%3E%23map_321a6826549f43be944d3add45140fe8%20%7B%0A%20%20%20%20%20%20%20%20position%3A%20relative%3B%0A%20%20%20%20%20%20%20%20width%3A%20100.0%25%3B%0A%20%20%20%20%20%20%20%20height%3A%20100.0%25%3B%0A%20%20%20%20%20%20%20%20left%3A%200.0%25%3B%0A%20%20%20%20%20%20%20%20top%3A%200.0%25%3B%0A%20%20%20%20%20%20%20%20%7D%0A%20%20%20%20%3C/style%3E%0A%20%20%20%20%3Cscript%20src%3D%22https%3A//leaflet.github.io/Leaflet.heat/dist/leaflet-heat.js%22%3E%3C/script%3E%0A%3C/head%3E%0A%3Cbody%3E%20%20%20%20%0A%20%20%20%20%0A%20%20%20%20%3Cdiv%20class%3D%22folium-map%22%20id%3D%22map_321a6826549f43be944d3add45140fe8%22%20%3E%3C/div%3E%0A%3C/body%3E%0A%3Cscript%3E%20%20%20%20%0A%20%20%20%20%0A%20%20%20%20%0A%20%20%20%20%20%20%20%20var%20bounds%20%3D%20null%3B%0A%20%20%20%20%0A%0A%20%20%20%20var%20map_321a6826549f43be944d3add45140fe8%20%3D%20L.map%28%0A%20%20%20%20%20%20%20%20%27map_321a6826549f43be944d3add45140fe8%27%2C%20%7B%0A%20%20%20%20%20%20%20%20center%3A%20%5B0%2C%200%5D%2C%0A%20%20%20%20%20%20%20%20zoom%3A%201%2C%0A%20%20%20%20%20%20%20%20maxBounds%3A%20bounds%2C%0A%20%20%20%20%20%20%20%20layers%3A%20%5B%5D%2C%0A%20%20%20%20%20%20%20%20worldCopyJump%3A%20false%2C%0A%20%20%20%20%20%20%20%20crs%3A%20L.CRS.EPSG3857%2C%0A%20%20%20%20%20%20%20%20zoomControl%3A%20true%2C%0A%20%20%20%20%20%20%20%20%7D%29%3B%0A%0A%0A%20%20%20%20%0A%20%20%20%20var%20tile_layer_8786b25ebc2341f6bffa838dba627d2f%20%3D%20L.tileLayer%28%0A%20%20%20%20%20%20%20%20%27https%3A//%7Bs%7D.tile.openstreetmap.org/%7Bz%7D/%7Bx%7D/%7By%7D.png%27%2C%0A%20%20%20%20%20%20%20%20%7B%0A%20%20%20%20%20%20%20%20%22attribution%22%3A%20null%2C%0A%20%20%20%20%20%20%20%20%22detectRetina%22%3A%20false%2C%0A%20%20%20%20%20%20%20%20%22maxNativeZoom%22%3A%2018%2C%0A%20%20%20%20%20%20%20%20%22maxZoom%22%3A%2018%2C%0A%20%20%20%20%20%20%20%20%22minZoom%22%3A%200%2C%0A%20%20%20%20%20%20%20%20%22noWrap%22%3A%20false%2C%0A%20%20%20%20%20%20%20%20%22opacity%22%3A%201%2C%0A%20%20%20%20%20%20%20%20%22subdomains%22%3A%20%22abc%22%2C%0A%20%20%20%20%20%20%20%20%22tms%22%3A%20false%0A%7D%29.addTo%28map_321a6826549f43be944d3add45140fe8%29%3B%0A%20%20%20%20%0A%20%20%20%20%20%20%20%20%20%20%20%20var%20heat_map_4a31bd91aca9403a9877aa35eaae7fff%20%3D%20L.heatLayer%28%0A%20%20%20%20%20%20%20%20%20%20%20%20%20%20%20%20%5B%5B39.797474%2C%20-86.11692%5D%2C%20%5B33.963913%2C%20-117.324977%5D%2C%20%5B40.820992%2C%20-73.865707%5D%2C%20%5B39.373337%2C%20-78.038903%5D%2C%20%5B39.52013%2C%20-119.86951%5D%2C%20%5B35.216148%2C%20-80.883736%5D%2C%20%5B42.982147%2C%20-87.916359%5D%2C%20%5B33.928028000000005%2C%20-118.237022%5D%2C%20%5B33.912338%2C%20-84.37912800000001%5D%2C%20%5B37.976841%2C%20-122.30551899999999%5D%2C%20%5B45.633441%2C%20-94.603303%5D%2C%20%5B37.763011%2C%20-121.967176%5D%2C%20%5B41.26992%2C%20-78.496147%5D%2C%20%5B29.991602%2C%20-90.052788%5D%2C%20%5B36.110958000000004%2C%20-86.787552%5D%2C%20%5B32.731358%2C%20-117.154716%5D%2C%20%5B41.829246999999995%2C%20-71.418022%5D%2C%20%5B33.890806%2C%20-118.361313%5D%2C%20%5B38.628453%2C%20-121.36446399999998%5D%2C%20%5B45.549609999999994%2C%20-94.20519%5D%2C%20%5B34.871452000000005%2C%20-82.225899%5D%2C%20%5B43.092991%2C%20-73.750877%5D%2C%20%5B34.823601000000004%2C%20-82.291382%5D%2C%20%5B41.70004%2C%20-88.03801999999999%5D%2C%20%5B39.9773%2C%20-83.14768000000001%5D%2C%20%5B33.918865000000004%2C%20-118.27393300000001%5D%2C%20%5B37.99405%2C%20-122.03913999999999%5D%2C%20%5B35.740448%2C%20-78.630516%5D%2C%20%5B40.814415000000004%2C%20-73.477325%5D%2C%20%5B40.453590000000005%2C%20-79.99739100000001%5D%2C%20%5B33.207142%2C%20-87.524406%5D%2C%20%5B38.561108000000004%2C%20-121.48291%5D%2C%20%5B29.148854999999998%2C%20-82.18633299999999%5D%2C%20%5B37.767408%2C%20-122.39553500000001%5D%2C%20%5B33.930939%2C%20-118.178909%5D%2C%20%5B29.674845%2C%20-95.560448%5D%2C%20%5B33.499557%2C%20-82.58764599999999%5D%2C%20%5B41.486465%2C%20-88.186737%5D%2C%20%5B40.024303%2C%20-75.030647%5D%2C%20%5B35.81665%2C%20-78.60073100000001%5D%2C%20%5B45.159191%2C%20-93.391624%5D%2C%20%5B34.240551%2C%20-117.215752%5D%2C%20%5B34.855598%2C%20-81.961739%5D%2C%20%5B34.085365%2C%20-117.68959%5D%2C%20%5B34.029835%2C%20-118.21491999999999%5D%2C%20%5B35.272971999999996%2C%20-80.76718100000001%5D%2C%20%5B44.723808%2C%20-92.85208100000001%5D%2C%20%5B40.678646%2C%20-77.396751%5D%2C%20%5B26.810244%2C%20-80.152946%5D%2C%20%5B39.294909000000004%2C%20-81.493288%5D%2C%20%5B44.256603000000005%2C%20-93.95916700000001%5D%2C%20%5B33.567488%2C%20-112.11646999999999%5D%2C%20%5B35.862541%2C%20-78.696793%5D%2C%20%5B41.068709999999996%2C%20-111.97207%5D%2C%20%5B37.024117%2C%20-76.330292%5D%2C%20%5B33.56575%2C%20-81.957047%5D%2C%20%5B25.812199%2C%20-80.20585600000001%5D%2C%20%5B39.94751%2C%20-74.960374%5D%2C%20%5B34.050565%2C%20-118.214083%5D%2C%20%5B38.220371%2C%20-121.888878%5D%2C%20%5B38.960949%2C%20-119.77863300000001%5D%2C%20%5B41.774609999999996%2C%20-72.57781%5D%2C%20%5B34.478271%2C%20-79.351692%5D%2C%20%5B33.774277000000005%2C%20-118.00752299999999%5D%2C%20%5B36.15447%2C%20-86.76034200000001%5D%2C%20%5B33.392002000000005%2C%20-112.15093200000001%5D%2C%20%5B35.731251%2C%20-78.62754100000001%5D%2C%20%5B29.746918%2C%20-95.58422900000001%5D%2C%20%5B47.161388%2C%20-122.297394%5D%2C%20%5B28.22995%2C%20-82.213257%5D%2C%20%5B30.347134000000004%2C%20-81.66828199999999%5D%2C%20%5B40.282722%2C%20-79.41544300000001%5D%2C%20%5B29.955890000000004%2C%20-95.41851%5D%2C%20%5B37.964146%2C%20-122.318352%5D%2C%20%5B37.775433%2C%20-121.974503%5D%2C%20%5B33.914853%2C%20-118.18553700000001%5D%2C%20%5B25.742954%2C%20-80.22970600000001%5D%2C%20%5B33.97805%2C%20-81.194801%5D%2C%20%5B29.606234000000004%2C%20-95.205124%5D%2C%20%5B33.853939000000004%2C%20-117.906784%5D%2C%20%5B26.312890000000003%2C%20-80.1173%5D%2C%20%5B38.23983%2C%20-104.61179%5D%2C%20%5B41.8509%2C%20-87.64492%5D%2C%20%5B39.139313%2C%20-121.041699%5D%2C%20%5B25.687383999999998%2C%20-80.35128%5D%2C%20%5B38.221783%2C%20-122.608797%5D%2C%20%5B35.146491999999995%2C%20-89.961014%5D%2C%20%5B38.943149%2C%20-77.06291999999999%5D%2C%20%5B44.057938%2C%20-121.219131%5D%2C%20%5B35.461952000000004%2C%20-97.547882%5D%2C%20%5B43.817097%2C%20-121.428871%5D%2C%20%5B34.146648%2C%20-118.226349%5D%2C%20%5B32.250382%2C%20-110.92751799999999%5D%2C%20%5B37.314921999999996%2C%20-121.910576%5D%2C%20%5B33.219229999999996%2C%20-111.98902%5D%2C%20%5B45.079746%2C%20-93.392204%5D%2C%20%5B37.07674%2C%20-121.98423999999999%5D%2C%20%5B34.066761%2C%20-117.511154%5D%2C%20%5B40.370319%2C%20-74.94416%5D%2C%20%5B33.935228%2C%20-118.09248000000001%5D%2C%20%5B45.06937%2C%20-93.278763%5D%2C%20%5B44.157339%2C%20-123.05689%5D%2C%20%5B32.206951000000004%2C%20-110.892334%5D%2C%20%5B30.404023%2C%20-91.182012%5D%2C%20%5B39.262756%2C%20-76.786461%5D%2C%20%5B37.545029%2C%20-122.293503%5D%2C%20%5B41.00217%2C%20-73.72315%5D%2C%20%5B25.780839999999998%2C%20-80.19989%5D%2C%20%5B34.081859%2C%20-118.223669%5D%2C%20%5B44.09278%2C%20-123.102074%5D%2C%20%5B25.733725%2C%20-80.294685%5D%2C%20%5B25.880626%2C%20-80.355278%5D%2C%20%5B40.739216%2C%20-73.792992%5D%2C%20%5B30.42515%2C%20-97.671295%5D%2C%20%5B40.596218%2C%20-73.907227%5D%2C%20%5B40.283649%2C%20-74.696129%5D%2C%20%5B29.94458%2C%20-82.111427%5D%2C%20%5B34.053799%2C%20-81.185783%5D%2C%20%5B28.452446999999996%2C%20-81.47766%5D%2C%20%5B36.116661%2C%20-86.923309%5D%2C%20%5B30.440886%2C%20-87.259155%5D%2C%20%5B39.1273%2C%20-94.49773%5D%2C%20%5B40.679375%2C%20-74.003151%5D%2C%20%5B41.120533%2C%20-73.373878%5D%2C%20%5B44.890774%2C%20-93.26783%5D%2C%20%5B35.19339%2C%20-80.725815%5D%2C%20%5B37.994690000000006%2C%20-122.069199%5D%2C%20%5B34.217533%2C%20-119.05051399999999%5D%2C%20%5B33.56749%2C%20-112.11741599999999%5D%2C%20%5B39.921490000000006%2C%20-83.91337%5D%2C%20%5B29.413639%2C%20-98.566856%5D%2C%20%5B36.123047%2C%20-86.751205%5D%2C%20%5B39.614721%2C%20-77.79436700000001%5D%2C%20%5B32.919763%2C%20-79.878264%5D%2C%20%5B38.361599%2C%20-122.70533%5D%2C%20%5B30.352698999999998%2C%20-97.422737%5D%2C%20%5B29.810947%2C%20-95.437263%5D%2C%20%5B28.553156%2C%20-81.382469%5D%2C%20%5B41.97337%2C%20-88.183723%5D%2C%20%5B36.81575%2C%20-76.28166999999999%5D%2C%20%5B40.773563%2C%20-74.034622%5D%2C%20%5B38.595046999999994%2C%20-90.326447%5D%2C%20%5B34.902225%2C%20-81.792397%5D%2C%20%5B45.500609999999995%2C%20-111.270423%5D%2C%20%5B30.232385999999998%2C%20-97.720421%5D%2C%20%5B34.07994%2C%20-117.73773999999999%5D%2C%20%5B39.788422%2C%20-84.212807%5D%2C%20%5B34.170277%2C%20-118.501373%5D%2C%20%5B40.814756%2C%20-74.109746%5D%2C%20%5B35.319511%2C%20-120.697018%5D%2C%20%5B42.97668%2C%20-85.678%5D%2C%20%5B34.878521%2C%20-82.361328%5D%2C%20%5B33.8686%2C%20-112.63902%5D%2C%20%5B35.104115%2C%20-89.870224%5D%2C%20%5B37.619710999999995%2C%20-120.989145%5D%2C%20%5B42.15363%2C%20-87.984928%5D%2C%20%5B42.363831%2C%20-71.593399%5D%2C%20%5B30.841459999999998%2C%20-83.32937%5D%2C%20%5B34.0201%2C%20-118.18944499999999%5D%2C%20%5B41.987455%2C%20-73.18218%5D%2C%20%5B40.66193%2C%20-74.39295%5D%2C%20%5B32.346561%2C%20-95.320595%5D%2C%20%5B34.037967%2C%20-118.02219199999999%5D%2C%20%5B39.90115%2C%20-75.1054%5D%2C%20%5B26.300279999999997%2C%20-80.12071999999999%5D%2C%20%5B30.269372999999998%2C%20-81.612206%5D%2C%20%5B34.739841%2C%20-86.662178%5D%2C%20%5B28.887581%2C%20-82.36680600000001%5D%2C%20%5B34.393406%2C%20-117.40655500000001%5D%2C%20%5B35.836622%2C%20-78.656279%5D%2C%20%5B33.864311%2C%20-84.479141%5D%2C%20%5B41.577957%2C%20-73.90909599999999%5D%2C%20%5B42.880009%2C%20-78.87876899999999%5D%2C%20%5B37.64082%2C%20-77.56063%5D%2C%20%5B38.891315999999996%2C%20-77.166249%5D%2C%20%5B43.64954%2C%20-70.28904%5D%2C%20%5B41.455040000000004%2C%20-81.79026999999999%5D%2C%20%5B33.754379%2C%20-84.3787%5D%2C%20%5B35.563629%2C%20-97.567192%5D%2C%20%5B42.39197%2C%20-83.0042%5D%2C%20%5B36.192859999999996%2C%20-86.776337%5D%2C%20%5B35.285107%2C%20-82.400421%5D%2C%20%5B36.931441%2C%20-121.476526%5D%2C%20%5B40.8136%2C%20-74.01045%5D%2C%20%5B40.231873%2C%20-76.933113%5D%2C%20%5B39.92154%2C%20-76.89329000000001%5D%2C%20%5B41.28436%2C%20-72.94815%5D%2C%20%5B39.748259999999995%2C%20-104.99865700000001%5D%2C%20%5B40.143581%2C%20-76.30478000000001%5D%2C%20%5B44.641816999999996%2C%20-123.107568%5D%2C%20%5B37.984875%2C%20-121.250076%5D%2C%20%5B33.767345%2C%20-117.92128000000001%5D%2C%20%5B34.991421%2C%20-80.97006999999999%5D%2C%20%5B30.425851%2C%20-91.137736%5D%2C%20%5B33.698778999999995%2C%20-117.94232199999999%5D%2C%20%5B31.773396%2C%20-106.448204%5D%2C%20%5B41.550812%2C%20-72.832458%5D%2C%20%5B32.678207%2C%20-114.52133899999998%5D%2C%20%5B40.245564%2C%20-79.24472800000001%5D%2C%20%5B37.711296000000004%2C%20-122.167999%5D%2C%20%5B44.295840000000005%2C%20-103.43204%5D%2C%20%5B27.916245%2C%20-82.721428%5D%2C%20%5B38.932846000000005%2C%20-104.812775%5D%2C%20%5B38.312339%2C%20-120.274051%5D%2C%20%5B32.794098%2C%20-96.699883%5D%2C%20%5B34.577694%2C%20-87.079124%5D%2C%20%5B33.916046%2C%20-84.40664699999999%5D%2C%20%5B38.481426%2C%20-121.51055900000001%5D%2C%20%5B39.924763%2C%20-75.147049%5D%2C%20%5B37.772071999999994%2C%20-122.22480800000001%5D%2C%20%5B42.961971000000005%2C%20-88.006187%5D%2C%20%5B33.683525%2C%20-117.858452%5D%2C%20%5B26.275236%2C%20-80.12505300000001%5D%2C%20%5B29.362596999999997%2C%20-98.443062%5D%2C%20%5B34.869046000000004%2C%20-82.232148%5D%2C%20%5B28.791366999999997%2C%20-81.989746%5D%2C%20%5B33.878071000000006%2C%20-117.88049299999999%5D%2C%20%5B42.245360999999995%2C%20-88.422798%5D%2C%20%5B27.26926%2C%20-82.489319%5D%2C%20%5B36.081619%2C%20-86.44059%5D%2C%20%5B36.073334%2C%20-80.303375%5D%2C%20%5B41.80862%2C%20-71.40475%5D%2C%20%5B47.873882%2C%20-122.011467%5D%2C%20%5B35.753494%2C%20-80.348015%5D%2C%20%5B39.24094%2C%20-76.58895%5D%2C%20%5B33.028023%2C%20-96.82916999999999%5D%2C%20%5B29.820014%2C%20-95.29364%5D%2C%20%5B33.978612%2C%20-118.127715%5D%2C%20%5B42.485859999999995%2C%20-87.9466%5D%2C%20%5B34.146896000000005%2C%20-118.16118600000001%5D%2C%20%5B44.86235%2C%20-93.485596%5D%2C%20%5B29.645398999999998%2C%20-95.226547%5D%2C%20%5B33.912704%2C%20-118.180194%5D%2C%20%5B47.600876%2C%20-122.327675%5D%2C%20%5B25.733028%2C%20-80.318649%5D%2C%20%5B33.386105%2C%20-111.80491599999999%5D%2C%20%5B36.822876%2C%20-119.804382%5D%2C%20%5B40.691559000000005%2C%20-73.998795%5D%2C%20%5B34.336174%2C%20-118.51133%5D%2C%20%5B40.729393%2C%20-74.53939100000001%5D%2C%20%5B34.668678%2C%20-82.181877%5D%2C%20%5B42.131344%2C%20-71.22261%5D%2C%20%5B33.90262%2C%20-84.35918000000001%5D%2C%20%5B41.158291%2C%20-73.395075%5D%2C%20%5B25.716064000000003%2C%20-80.41524%5D%2C%20%5B37.403704%2C%20-77.674708%5D%2C%20%5B34.067703%2C%20-117.593521%5D%2C%20%5B32.880943%2C%20-96.897942%5D%2C%20%5B32.743930999999996%2C%20-117.048332%5D%2C%20%5B25.942207%2C%20-80.351395%5D%2C%20%5B40.797108%2C%20-74.065506%5D%2C%20%5B39.046009000000005%2C%20-94.41501600000001%5D%2C%20%5B40.586018%2C%20-73.93118299999999%5D%2C%20%5B34.2864%2C%20-79.8797%5D%2C%20%5B30.479740000000003%2C%20-90.24436999999999%5D%2C%20%5B39.605312%2C%20-77.728989%5D%2C%20%5B38.840759999999996%2C%20-76.87215%5D%2C%20%5B33.513313000000004%2C%20-112.15155%5D%2C%20%5B30.462927%2C%20-91.098373%5D%2C%20%5B33.998127000000004%2C%20-118.369476%5D%2C%20%5B30.619265000000002%2C%20-81.650047%5D%2C%20%5B44.34903%2C%20-121.178757%5D%2C%20%5B36.079547999999996%2C%20-86.72627299999999%5D%2C%20%5B41.70718%2C%20-71.47219%5D%2C%20%5B34.714443%2C%20-86.930977%5D%2C%20%5B32.782639%2C%20-96.79335%5D%2C%20%5B25.783085%2C%20-80.200539%5D%2C%20%5B35.153038%2C%20-106.589386%5D%2C%20%5B38.851364000000004%2C%20-77.131271%5D%2C%20%5B38.037304%2C%20-121.258522%5D%2C%20%5B40.115471%2C%20-76.24266800000001%5D%2C%20%5B33.887889%2C%20-118.035734%5D%2C%20%5B34.045494%2C%20-81.119011%5D%2C%20%5B39.102695000000004%2C%20-94.674545%5D%2C%20%5B35.172722%2C%20-80.859718%5D%2C%20%5B33.873490000000004%2C%20-118.26485%5D%2C%20%5B38.222747999999996%2C%20-122.12883000000001%5D%2C%20%5B32.133665%2C%20-81.172726%5D%2C%20%5B35.855957000000004%2C%20-78.592506%5D%2C%20%5B33.737792999999996%2C%20-117.82581299999998%5D%2C%20%5B41.804715%2C%20-88.19048199999999%5D%2C%20%5B34.072601%2C%20-117.200558%5D%2C%20%5B30.688829%2C%20-91.049828%5D%2C%20%5B33.941821999999995%2C%20-118.352631%5D%2C%20%5B28.02314%2C%20-82.244713%5D%2C%20%5B26.200678%2C%20-80.454048%5D%2C%20%5B34.24232%2C%20-118.41962%5D%2C%20%5B47.167496%2C%20-122.1441%5D%2C%20%5B41.7164%2C%20-72.2321%5D%2C%20%5B37.777322%2C%20-121.182896%5D%2C%20%5B34.108318%2C%20-117.263893%5D%2C%20%5B38.635612%2C%20-90.405472%5D%2C%20%5B35.934933%2C%20-86.532211%5D%2C%20%5B34.071938%2C%20-118.266922%5D%2C%20%5B33.771156%2C%20-84.36895799999999%5D%2C%20%5B30.416991999999997%2C%20-87.296368%5D%2C%20%5B38.839371%2C%20-77.444839%5D%2C%20%5B34.112393%2C%20-117.76256000000001%5D%2C%20%5B38.767334000000005%2C%20-90.412674%5D%2C%20%5B41.035389%2C%20-81.56559%5D%2C%20%5B41.205124%2C%20-96.131264%5D%2C%20%5B34.402683%2C%20-118.45498700000002%5D%2C%20%5B42.927551%2C%20-85.666679%5D%2C%20%5B37.737770000000005%2C%20-122.407875%5D%2C%20%5B33.494282%2C%20-112.237747%5D%2C%20%5B34.034454%2C%20-118.274429%5D%2C%20%5B40.114796000000005%2C%20-75.285576%5D%2C%20%5B35.241783%2C%20-80.80839499999999%5D%2C%20%5B38.004471%2C%20-122.038849%5D%2C%20%5B28.206090000000003%2C%20-82.66623%5D%2C%20%5B25.847929%2C%20-80.207634%5D%2C%20%5B25.869322%2C%20-80.208664%5D%2C%20%5B35.967146%2C%20-77.994722%5D%2C%20%5B41.607269%2C%20-87.107407%5D%2C%20%5B35.705197%2C%20-78.583387%5D%2C%20%5B34.136331%2C%20-80.960611%5D%2C%20%5B42.841120000000004%2C%20-86.15344%5D%2C%20%5B38.774989%2C%20-121.26128500000002%5D%2C%20%5B34.890053%2C%20-82.375671%5D%2C%20%5B25.95712%2C%20-80.20560400000001%5D%2C%20%5B35.063808%2C%20-81.957642%5D%2C%20%5B26.06851%2C%20-80.35684%5D%2C%20%5B39.70755%2C%20-75.54969%5D%2C%20%5B40.92159%2C%20-80.51901%5D%2C%20%5B39.176292%2C%20-76.636139%5D%2C%20%5B29.218909999999997%2C%20-82.046509%5D%2C%20%5B34.916721%2C%20-82.004387%5D%2C%20%5B38.449379%2C%20-112.230347%5D%2C%20%5B34.20689%2C%20-118.21224%5D%2C%20%5B38.420906%2C%20-122.71556100000001%5D%2C%20%5B34.072044%2C%20-117.90751599999999%5D%2C%20%5B35.085361%2C%20-81.974388%5D%2C%20%5B36.022090999999996%2C%20-78.649727%5D%2C%20%5B42.398434%2C%20-83.110023%5D%2C%20%5B34.788585999999995%2C%20-82.482292%5D%2C%20%5B33.540015999999994%2C%20-81.991776%5D%2C%20%5B43.199078%2C%20-77.57701899999999%5D%2C%20%5B30.348595%2C%20-97.56021899999999%5D%2C%20%5B39.146488%2C%20-76.769814%5D%2C%20%5B34.757071999999994%2C%20-85.234344%5D%2C%20%5B33.917118%2C%20-118.07975%5D%2C%20%5B35.493252000000005%2C%20-97.57688900000001%5D%2C%20%5B38.525158000000005%2C%20-90.398514%5D%2C%20%5B34.023144%2C%20-117.811676%5D%2C%20%5B35.18074%2C%20-80.889297%5D%2C%20%5B39.754222999999996%2C%20-84.224075%5D%2C%20%5B42.392761%2C%20-88.183464%5D%2C%20%5B30.236746000000004%2C%20-95.458527%5D%2C%20%5B32.751221%2C%20-96.811691%5D%2C%20%5B33.866051%2C%20-117.54216000000001%5D%2C%20%5B34.019993%2C%20-118.18125900000001%5D%2C%20%5B34.025960999999995%2C%20-118.04010600000001%5D%2C%20%5B40.430653%2C%20-79.957886%5D%2C%20%5B40.427696000000005%2C%20-76.51844%5D%2C%20%5B29.682514%2C%20-95.45695500000001%5D%2C%20%5B40.768078%2C%20-73.904831%5D%2C%20%5B28.578196000000002%2C%20-81.407043%5D%2C%20%5B33.990685%2C%20-118.27393300000001%5D%2C%20%5B42.27153%2C%20-71.077217%5D%2C%20%5B38.276295000000005%2C%20-122.047371%5D%2C%20%5B36.29623%2C%20-78.40561%5D%2C%20%5B34.845325%2C%20-82.308815%5D%2C%20%5B31.87728%2C%20-82.59697%5D%2C%20%5B33.583752000000004%2C%20-79.009331%5D%2C%20%5B32.163231%2C%20-110.977531%5D%2C%20%5B38.021772%2C%20-78.540593%5D%2C%20%5B39.9354%2C%20-75.199751%5D%2C%20%5B29.266941999999997%2C%20-82.186189%5D%2C%20%5B35.551029%2C%20-121.083611%5D%2C%20%5B30.444033%2C%20-91.159828%5D%2C%20%5B33.922832%2C%20-118.02914399999999%5D%2C%20%5B35.163101%2C%20-80.889854%5D%2C%20%5B42.659651000000004%2C%20-121.876429%5D%2C%20%5B39.188095000000004%2C%20-104.850433%5D%2C%20%5B40.760143%2C%20-73.84721400000001%5D%2C%20%5B39.018726%2C%20-76.975487%5D%2C%20%5B44.668671%2C%20-93.136581%5D%2C%20%5B37.242736%2C%20-79.674104%5D%2C%20%5B34.973782%2C%20-81.89694200000001%5D%2C%20%5B35.435219000000004%2C%20-80.657333%5D%2C%20%5B33.451355%2C%20-111.89034299999999%5D%2C%20%5B34.986092%2C%20-118.94508400000001%5D%2C%20%5B36.694462%2C%20-119.78639199999999%5D%2C%20%5B27.639444%2C%20-80.51812%5D%2C%20%5B30.289089%2C%20-81.982803%5D%2C%20%5B39.750648%2C%20-75.583931%5D%2C%20%5B32.229008%2C%20-108.08666200000002%5D%2C%20%5B38.578520000000005%2C%20-90.44659%5D%2C%20%5B33.557152%2C%20-84.55207800000001%5D%2C%20%5B41.938389%2C%20-87.965187%5D%2C%20%5B25.781439000000002%2C%20-80.30900600000001%5D%2C%20%5B29.737571999999997%2C%20-95.505066%5D%2C%20%5B35.75206%2C%20-78.7072%5D%2C%20%5B30.408520000000003%2C%20-91.016037%5D%2C%20%5B29.940388000000002%2C%20-95.29604300000001%5D%2C%20%5B33.92889%2C%20-118.29158799999999%5D%2C%20%5B38.116405%2C%20-121.398026%5D%2C%20%5B34.607079999999996%2C%20-118.15003%5D%2C%20%5B35.363116999999995%2C%20-97.565437%5D%2C%20%5B39.054798%2C%20-84.626205%5D%2C%20%5B31.75872%2C%20-106.48708%5D%2C%20%5B35.652546%2C%20-97.230042%5D%2C%20%5B41.358133%2C%20-74.69608000000001%5D%2C%20%5B31.525365%2C%20-81.44548%5D%2C%20%5B35.84581%2C%20-78.836823%5D%2C%20%5B33.456447999999995%2C%20-117.65169499999999%5D%2C%20%5B28.185959000000004%2C%20-82.437927%5D%2C%20%5B34.031040000000004%2C%20-118.39038799999999%5D%2C%20%5B29.670563%2C%20-95.554924%5D%2C%20%5B44.23003%2C%20-93.460037%5D%2C%20%5B37.351665000000004%2C%20-122.060318%5D%2C%20%5B41.101711%2C%20-73.992599%5D%2C%20%5B33.465728999999996%2C%20-112.038177%5D%2C%20%5B30.398565%2C%20-91.107437%5D%2C%20%5B41.281361%2C%20-95.972267%5D%2C%20%5B37.622355%2C%20-77.60632199999999%5D%2C%20%5B34.27272%2C%20-82.19381%5D%2C%20%5B33.68053%2C%20-117.17076599999999%5D%2C%20%5B28.582256%2C%20-81.375038%5D%2C%20%5B42.065940999999995%2C%20-88.259056%5D%2C%20%5B47.472406%2C%20-122.797995%5D%2C%20%5B30.419874%2C%20-91.17734499999999%5D%2C%20%5B35.824532%2C%20-78.375374%5D%2C%20%5B36.199207%2C%20-95.940407%5D%2C%20%5B35.001521999999994%2C%20-85.21096%5D%2C%20%5B33.541382%2C%20-81.691338%5D%2C%20%5B28.588158%2C%20-81.56021899999999%5D%2C%20%5B40.766548%2C%20-73.838432%5D%2C%20%5B33.387859999999996%2C%20-110.88706%5D%2C%20%5B33.87344%2C%20-79.104774%5D%2C%20%5B34.219738%2C%20-81.496658%5D%2C%20%5B35.113366%2C%20-85.261534%5D%2C%20%5B33.974740000000004%2C%20-118.24768999999999%5D%2C%20%5B44.432407%2C%20-124.07103899999998%5D%2C%20%5B33.254805%2C%20-117.09156999999999%5D%2C%20%5B25.7253%2C%20-80.38399%5D%2C%20%5B47.555748%2C%20-122.33815%5D%2C%20%5B41.564809999999994%2C%20-73.05792%5D%2C%20%5B33.748081%2C%20-84.349197%5D%2C%20%5B35.813492%2C%20-78.869324%5D%2C%20%5B29.769436%2C%20-95.387619%5D%2C%20%5B35.220261%2C%20-80.81085999999999%5D%2C%20%5B33.536879%2C%20-112.35736399999999%5D%2C%20%5B41.212105%2C%20-96.091339%5D%2C%20%5B42.38346%2C%20-83.066%5D%2C%20%5B42.206909%2C%20-83.230362%5D%2C%20%5B36.091228%2C%20-86.651268%5D%2C%20%5B39.88187%2C%20-86.252884%5D%2C%20%5B30.296352000000002%2C%20-85.48979200000001%5D%2C%20%5B40.872616%2C%20-73.98107900000001%5D%2C%20%5B25.840631%2C%20-80.322289%5D%2C%20%5B33.95779%2C%20-118.23108%5D%2C%20%5B36.977936%2C%20-121.910097%5D%2C%20%5B33.902271%2C%20-84.47395300000001%5D%2C%20%5B41.061871999999994%2C%20-75.558487%5D%2C%20%5B34.069103000000005%2C%20-117.83883700000001%5D%2C%20%5B34.137741%2C%20-82.130302%5D%2C%20%5B34.027524%2C%20-118.274639%5D%2C%20%5B40.4786%2C%20-122.428711%5D%2C%20%5B37.841362%2C%20-122.29705%5D%2C%20%5B39.246235%2C%20-119.813576%5D%2C%20%5B33.791977%2C%20-84.39241%5D%2C%20%5B34.10411%2C%20-118.2526%5D%2C%20%5B30.339211%2C%20-97.70008100000001%5D%2C%20%5B38.23012%2C%20-85.63325%5D%2C%20%5B33.51877%2C%20-111.90888000000001%5D%2C%20%5B35.352253000000005%2C%20-118.987099%5D%2C%20%5B30.433646999999997%2C%20-81.58003199999999%5D%2C%20%5B34.082031%2C%20-80.940529%5D%2C%20%5B33.21965%2C%20-86.86770600000001%5D%2C%20%5B34.75398%2C%20-92.26235%5D%2C%20%5B35.767528999999996%2C%20-78.57431%5D%2C%20%5B28.553534000000003%2C%20-81.475964%5D%2C%20%5B38.203753000000006%2C%20-121.259553%5D%2C%20%5B27.392876%2C%20-82.435806%5D%2C%20%5B30.418104999999997%2C%20-91.108171%5D%2C%20%5B45.62753%2C%20-117.67468999999998%5D%2C%20%5B38.123042%2C%20-122.273151%5D%2C%20%5B34.153725%2C%20-118.340126%5D%2C%20%5B34.385203999999995%2C%20-119.488541%5D%2C%20%5B33.65636%2C%20-112.37281999999999%5D%2C%20%5B40.118%2C%20-75.358032%5D%2C%20%5B34.785522%2C%20-81.898849%5D%2C%20%5B42.256969%2C%20-71.806145%5D%2C%20%5B34.883114%2C%20-82.264565%5D%2C%20%5B40.108559%2C%20-75.15619699999999%5D%2C%20%5B32.802734%2C%20-96.688225%5D%2C%20%5B38.990879%2C%20-84.531563%5D%2C%20%5B35.600307%2C%20-80.81147800000001%5D%2C%20%5B38.669983%2C%20-77.254593%5D%2C%20%5B33.173313%2C%20-117.20811499999999%5D%2C%20%5B37.340256%2C%20-121.85240900000001%5D%2C%20%5B43.28394%2C%20-124.23046000000001%5D%2C%20%5B37.443386%2C%20-77.428741%5D%2C%20%5B33.191666%2C%20-97.115021%5D%2C%20%5B35.774372%2C%20-78.642876%5D%2C%20%5B42.523827000000004%2C%20-71.581688%5D%2C%20%5B40.114487%2C%20-76.689766%5D%2C%20%5B29.850065%2C%20-95.262383%5D%2C%20%5B28.53492%2C%20-81.387772%5D%2C%20%5B44.971321%2C%20-93.370316%5D%2C%20%5B39.95908%2C%20-76.743927%5D%2C%20%5B38.810139%2C%20-90.874176%5D%2C%20%5B36.844786%2C%20-76.170433%5D%2C%20%5B36.061679999999996%2C%20-86.594238%5D%2C%20%5B39.655083000000005%2C%20-84.194191%5D%2C%20%5B33.166618%2C%20-117.343819%5D%2C%20%5B28.492772%2C%20-81.39675600000001%5D%2C%20%5B34.279415%2C%20-77.867882%5D%2C%20%5B41.30707%2C%20-74.12784%5D%2C%20%5B40.206946%2C%20-110.73498500000001%5D%2C%20%5B33.797096%2C%20-84.368988%5D%2C%20%5B38.402515%2C%20-120.637611%5D%2C%20%5B28.339827000000003%2C%20-82.666046%5D%2C%20%5B30.321398%2C%20-97.694603%5D%2C%20%5B40.526245%2C%20-74.337074%5D%2C%20%5B34.370041%2C%20-118.50063300000001%5D%2C%20%5B28.421440000000004%2C%20-81.47066%5D%2C%20%5B40.660236%2C%20-74.43561600000001%5D%2C%20%5B30.618069000000002%2C%20-84.82238000000001%5D%2C%20%5B42.802155%2C%20-83.729012%5D%2C%20%5B40.097858%2C%20-111.760429%5D%2C%20%5B39.777077%2C%20-86.141904%5D%2C%20%5B38.879628000000004%2C%20-77.13723399999999%5D%2C%20%5B38.56197%2C%20-121.64736%5D%2C%20%5B32.729088%2C%20-117.10614%5D%2C%20%5B35.15377%2C%20-81.206345%5D%2C%20%5B25.788339999999998%2C%20-80.20831%5D%2C%20%5B34.228375%2C%20-117.414552%5D%2C%20%5B33.801272999999995%2C%20-84.401575%5D%2C%20%5B39.653721000000004%2C%20-104.918617%5D%2C%20%5B30.4172%2C%20-91.08985899999999%5D%2C%20%5B41.12295%2C%20-73.33556%5D%2C%20%5B30.320671%2C%20-81.681733%5D%2C%20%5B41.63842%2C%20-70.327187%5D%2C%20%5B40.004441%2C%20-79.761602%5D%2C%20%5B40.720882%2C%20-73.940872%5D%2C%20%5B45.576233%2C%20-122.678665%5D%2C%20%5B35.043397999999996%2C%20-80.84691099999999%5D%2C%20%5B29.024217999999998%2C%20-82.157265%5D%2C%20%5B47.756004%2C%20-122.32968899999999%5D%2C%20%5B39.75827%2C%20-84.150101%5D%2C%20%5B37.756828000000006%2C%20-122.40358%5D%2C%20%5B33.927704%2C%20-118.26516699999999%5D%2C%20%5B44.89147%2C%20-122.99371000000001%5D%2C%20%5B40.926272999999995%2C%20-75.090103%5D%2C%20%5B33.85117%2C%20-84.246475%5D%2C%20%5B42.70491%2C%20-73.853424%5D%2C%20%5B38.258774%2C%20-85.749893%5D%2C%20%5B36.596308%2C%20-121.86706299999999%5D%2C%20%5B32.667390000000005%2C%20-96.73196999999999%5D%2C%20%5B32.94267%2C%20-96.9036%5D%2C%20%5B42.031422%2C%20-87.817421%5D%2C%20%5B26.318445%2C%20-80.116196%5D%2C%20%5B30.363119%2C%20-97.69702099999999%5D%2C%20%5B36.606413%2C%20-120.58781499999999%5D%2C%20%5B37.539063%2C%20-77.427246%5D%2C%20%5B33.831833%2C%20-84.426376%5D%2C%20%5B37.522529999999996%2C%20-76.828133%5D%2C%20%5B34.066722999999996%2C%20-117.22586100000001%5D%2C%20%5B25.789072%2C%20-80.204353%5D%2C%20%5B38.251907%2C%20-122.376572%5D%2C%20%5B41.359955%2C%20-82.2854%5D%2C%20%5B33.917049%2C%20-118.07988%5D%2C%20%5B43.015018%2C%20-83.682671%5D%2C%20%5B44.952181%2C%20-93.147314%5D%2C%20%5B37.722908000000004%2C%20-121.10087%5D%2C%20%5B41.229424%2C%20-95.932243%5D%2C%20%5B45.61148%2C%20-121.1228%5D%2C%20%5B34.72007%2C%20-86.592636%5D%2C%20%5B25.778198%2C%20-80.328934%5D%2C%20%5B40.2089%2C%20-75.660271%5D%2C%20%5B36.941421999999996%2C%20-77.730591%5D%2C%20%5B38.789625%2C%20-90.512799%5D%2C%20%5B35.635571%2C%20-78.714539%5D%2C%20%5B37.830669%2C%20-122.293343%5D%2C%20%5B32.148736%2C%20-84.82769300000001%5D%2C%20%5B41.750393%2C%20-72.65799%5D%2C%20%5B41.601768%2C%20-81.502032%5D%2C%20%5B43.0331%2C%20-83.625534%5D%2C%20%5B41.87553%2C%20-87.63069200000001%5D%2C%20%5B38.865288%2C%20-77.32814%5D%2C%20%5B38.538754%2C%20-121.37088999999999%5D%2C%20%5B41.8316%2C%20-87.971863%5D%2C%20%5B30.429995%2C%20-91.024429%5D%2C%20%5B39.164833%2C%20-94.559311%5D%2C%20%5B25.898338%2C%20-80.20976999999999%5D%2C%20%5B28.429689%2C%20-81.407533%5D%2C%20%5B38.544779%2C%20-121.47398000000001%5D%2C%20%5B34.06765%2C%20-117.296008%5D%2C%20%5B35.48605%2C%20-97.513786%5D%2C%20%5B45.505159%2C%20-122.6735%5D%2C%20%5B32.547344%2C%20-83.74385799999999%5D%2C%20%5B40.73725%2C%20-73.59127%5D%2C%20%5B25.899784%2C%20-80.209885%5D%2C%20%5B32.924659000000005%2C%20-96.783402%5D%2C%20%5B33.940940999999995%2C%20-118.09666399999999%5D%2C%20%5B34.948166%2C%20-82.668808%5D%2C%20%5B33.238747%2C%20-87.598%5D%2C%20%5B39.643840999999995%2C%20-84.23295300000001%5D%2C%20%5B39.519945%2C%20-74.634837%5D%2C%20%5B34.06393%2C%20-117.26831000000001%5D%2C%20%5B33.987743%2C%20-80.206039%5D%2C%20%5B37.574096999999995%2C%20-77.39805600000001%5D%2C%20%5B27.995866999999997%2C%20-82.36077900000001%5D%2C%20%5B34.071682%2C%20-118.13243500000002%5D%2C%20%5B32.8571%2C%20-96.77046%5D%2C%20%5B34.773109000000005%2C%20-82.84314%5D%2C%20%5B33.894442%2C%20-118.278621%5D%2C%20%5B35.795821999999994%2C%20-78.640816%5D%2C%20%5B38.9385%2C%20-94.54261%5D%2C%20%5B33.87826%2C%20-84.27183000000001%5D%2C%20%5B30.282631%2C%20-97.74204300000001%5D%2C%20%5B47.614906%2C%20-122.33011599999999%5D%2C%20%5B33.690933%2C%20-84.071152%5D%2C%20%5B38.579147%2C%20-121.56063799999998%5D%2C%20%5B30.269140000000004%2C%20-81.61183%5D%2C%20%5B29.732164%2C%20-95.38799300000001%5D%2C%20%5B30.423187%2C%20-91.13874100000001%5D%2C%20%5B32.778717%2C%20-117.111296%5D%2C%20%5B33.489746000000004%2C%20-86.952034%5D%2C%20%5B28.516309999999997%2C%20-81.401222%5D%2C%20%5B44.13216%2C%20-123.05044%5D%2C%20%5B34.384235%2C%20-117.413757%5D%2C%20%5B41.51254%2C%20-111.94312%5D%2C%20%5B40.944862%2C%20-72.83142099999999%5D%2C%20%5B41.249142%2C%20-95.92932900000001%5D%2C%20%5B40.54826%2C%20-112.34201000000002%5D%2C%20%5B38.412819%2C%20-112.65239%5D%2C%20%5B40.72456%2C%20-74.17865%5D%2C%20%5B34.330628999999995%2C%20-92.15957900000001%5D%2C%20%5B47.418929999999996%2C%20-122.2882%5D%2C%20%5B25.701587%2C%20-80.350137%5D%2C%20%5B39.428703000000006%2C%20-77.41959399999999%5D%2C%20%5B45.130131%2C%20-93.386452%5D%2C%20%5B35.373692%2C%20-80.741791%5D%2C%20%5B40.770329%2C%20-74.062637%5D%2C%20%5B33.777378000000006%2C%20-86.427238%5D%2C%20%5B38.829803000000005%2C%20-76.874427%5D%2C%20%5B37.29209%2C%20-121.80965%5D%2C%20%5B25.773254%2C%20-80.198601%5D%2C%20%5B35.094471999999996%2C%20-81.027528%5D%2C%20%5B40.11671%2C%20-75.069266%5D%2C%20%5B29.784470000000002%2C%20-95.58766999999999%5D%2C%20%5B33.69753%2C%20-84.41546%5D%2C%20%5B35.241554%2C%20-80.93474499999999%5D%2C%20%5B25.789072%2C%20-80.204353%5D%2C%20%5B39.39598%2C%20-76.68738%5D%2C%20%5B32.788784%2C%20-96.76432%5D%2C%20%5B38.673747999999996%2C%20-121.624672%5D%2C%20%5B35.270905%2C%20-80.792831%5D%2C%20%5B40.691646999999996%2C%20-73.999306%5D%2C%20%5B27.85218%2C%20-82.34652700000001%5D%2C%20%5B37.815994%2C%20-121.294266%5D%2C%20%5B30.361722999999998%2C%20-97.585838%5D%2C%20%5B29.523333%2C%20-98.557236%5D%2C%20%5B33.935406%2C%20-118.27959399999999%5D%2C%20%5B32.30465%2C%20-86.337663%5D%2C%20%5B44.9509%2C%20-93.10008%5D%2C%20%5B37.47455%2C%20-122.208184%5D%2C%20%5B32.598461%2C%20-80.992683%5D%2C%20%5B34.018887%2C%20-118.182526%5D%2C%20%5B42.279339%2C%20-71.067841%5D%2C%20%5B34.032604%2C%20-118.32480600000001%5D%2C%20%5B39.671638%2C%20-86.158493%5D%2C%20%5B34.154041%2C%20-118.344994%5D%2C%20%5B43.148312%2C%20-87.916161%5D%2C%20%5B34.929047%2C%20-82.59115600000001%5D%2C%20%5B34.660213%2C%20-118.15018300000001%5D%2C%20%5B35.130058%2C%20-82.639023%5D%2C%20%5B39.670242%2C%20-86.25518000000001%5D%2C%20%5B44.747524%2C%20-93.271126%5D%2C%20%5B36.775622999999996%2C%20-119.784851%5D%2C%20%5B37.63349%2C%20-122.08612%5D%2C%20%5B36.118881%2C%20-95.85984%5D%2C%20%5B33.890156%2C%20-84.462746%5D%2C%20%5B30.688216999999998%2C%20-88.12628199999999%5D%2C%20%5B29.671847999999997%2C%20-95.559935%5D%2C%20%5B42.742554%2C%20-73.69747199999999%5D%2C%20%5B34.059258%2C%20-118.252587%5D%2C%20%5B25.924789999999998%2C%20-80.3155%5D%2C%20%5B34.024634000000006%2C%20-117.756964%5D%2C%20%5B34.029957%2C%20-118.218521%5D%2C%20%5B40.761818%2C%20-74.16310899999999%5D%2C%20%5B25.714009%2C%20-80.431177%5D%2C%20%5B41.568220000000004%2C%20-87.35028%5D%2C%20%5B33.147149%2C%20-117.10876499999999%5D%2C%20%5B33.901245%2C%20-80.093117%5D%2C%20%5B41.104612%2C%20-74.07794399999999%5D%2C%20%5B27.354549%2C%20-82.505676%5D%2C%20%5B30.007664000000002%2C%20-90.266472%5D%2C%20%5B43.031059%2C%20-83.657951%5D%2C%20%5B25.845654999999997%2C%20-80.251159%5D%2C%20%5B41.119259%2C%20-78.11640899999999%5D%2C%20%5B34.073952%2C%20-117.61718799999998%5D%2C%20%5B32.815360999999996%2C%20-117.158607%5D%2C%20%5B42.363762%2C%20-87.82991%5D%2C%20%5B34.196903000000006%2C%20-80.68744699999999%5D%2C%20%5B36.949432%2C%20-121.851128%5D%2C%20%5B40.158058000000004%2C%20-75.048843%5D%2C%20%5B35.623721999999994%2C%20-97.567139%5D%2C%20%5B33.949721999999994%2C%20-118.09185%5D%2C%20%5B39.767708%2C%20-75.047935%5D%2C%20%5B42.983878999999995%2C%20-71.415459%5D%2C%20%5B32.751251%2C%20-96.809288%5D%2C%20%5B34.073746%2C%20-80.99947399999999%5D%2C%20%5B35.464294%2C%20-97.65422099999999%5D%2C%20%5B42.024609999999996%2C%20-87.86570999999999%5D%2C%20%5B26.857602000000004%2C%20-81.987712%5D%2C%20%5B37.663326%2C%20-122.105667%5D%2C%20%5B34.020058%2C%20-118.189186%5D%2C%20%5B30.329665999999996%2C%20-97.679161%5D%2C%20%5B35.209866%2C%20-80.757149%5D%2C%20%5B33.282951000000004%2C%20-111.79058799999999%5D%2C%20%5B40.639%2C%20-111.976707%5D%2C%20%5B38.866469%2C%20-77.219962%5D%2C%20%5B35.768356%2C%20-78.694183%5D%2C%20%5B41.502387%2C%20-75.040589%5D%2C%20%5B42.360813%2C%20-83.054199%5D%2C%20%5B35.819728999999995%2C%20-78.624001%5D%2C%20%5B45.121746%2C%20-93.049591%5D%2C%20%5B39.75452%2C%20-84.159279%5D%2C%20%5B34.91275%2C%20-82.20976999999999%5D%2C%20%5B35.768726%2C%20-78.697861%5D%2C%20%5B35.223152%2C%20-80.72493%5D%2C%20%5B41.035651%2C%20-81.56806%5D%2C%20%5B47.413321%2C%20-116.62386799999999%5D%2C%20%5B34.793446%2C%20-111.91658799999999%5D%2C%20%5B28.217209999999998%2C%20-82.69281%5D%2C%20%5B34.186695%2C%20-118.47402199999999%5D%2C%20%5B34.07346%2C%20-80.950005%5D%2C%20%5B47.462715%2C%20-122.265778%5D%2C%20%5B40.736889%2C%20-73.582993%5D%2C%20%5B34.817471000000005%2C%20-82.416138%5D%2C%20%5B35.341122%2C%20-97.529938%5D%2C%20%5B42.729865000000004%2C%20-71.45223299999999%5D%2C%20%5B40.082397%2C%20-82.906921%5D%2C%20%5B37.2976%2C%20-121.81160700000001%5D%2C%20%5B32.909489%2C%20-96.804008%5D%2C%20%5B40.671957%2C%20-73.998597%5D%2C%20%5B39.03671%2C%20-76.85049000000001%5D%2C%20%5B40.88667%2C%20-74.56228%5D%2C%20%5B35.835029999999996%2C%20-78.58236%5D%2C%20%5B33.919841999999996%2C%20-118.23908200000001%5D%2C%20%5B29.967840000000002%2C%20-90.10762%5D%2C%20%5B25.686501999999997%2C%20-80.38436899999999%5D%2C%20%5B44.859840000000005%2C%20-93.3863%5D%2C%20%5B33.74334%2C%20-118.29895%5D%2C%20%5B37.465678999999994%2C%20-77.382935%5D%2C%20%5B37.297405%2C%20-79.938583%5D%2C%20%5B41.19334%2C%20-80.23725999999999%5D%2C%20%5B33.431084000000006%2C%20-112.20315900000001%5D%2C%20%5B41.890331%2C%20-87.95195%5D%2C%20%5B35.237064000000004%2C%20-80.92025799999999%5D%2C%20%5B39.116081%2C%20-76.962158%5D%2C%20%5B26.058378%2C%20-80.16255799999999%5D%2C%20%5B34.071808000000004%2C%20-118.12286399999999%5D%2C%20%5B41.870514%2C%20-88.01786%5D%2C%20%5B39.873665%2C%20-75.018578%5D%2C%20%5B43.082664%2C%20-87.920349%5D%2C%20%5B33.477242%2C%20-81.971092%5D%2C%20%5B30.417509000000003%2C%20-91.067642%5D%2C%20%5B37.891457%2C%20-120.56568899999999%5D%2C%20%5B35.514168%2C%20-97.54731%5D%2C%20%5B43.110126%2C%20-75.18095100000001%5D%2C%20%5B41.212246%2C%20-95.96376%5D%2C%20%5B38.45705%2C%20-121.41051499999999%5D%2C%20%5B37.89265%2C%20-122.15993%5D%2C%20%5B34.029835%2C%20-118.21491999999999%5D%2C%20%5B35.656647%2C%20-89.595383%5D%2C%20%5B34.146858%2C%20-118.370379%5D%2C%20%5B41.750454%2C%20-88.04079399999999%5D%2C%20%5B25.820715%2C%20-80.313503%5D%2C%20%5B38.66555%2C%20-121.35503%5D%2C%20%5B38.416149%2C%20-121.897377%5D%2C%20%5B30.432840000000002%2C%20-91.057388%5D%2C%20%5B43.087169%2C%20-77.602152%5D%2C%20%5B30.416140000000002%2C%20-91.15612%5D%2C%20%5B30.45035%2C%20-91.153816%5D%2C%20%5B36.014462%2C%20-86.62043800000001%5D%2C%20%5B33.527906%2C%20-82.954667%5D%2C%20%5B35.79915%2C%20-91.12434%5D%2C%20%5B32.676521%2C%20-97.044205%5D%2C%20%5B25.92715%2C%20-80.20535799999999%5D%2C%20%5B38.912457%2C%20-94.771538%5D%2C%20%5B36.133171000000004%2C%20-86.895767%5D%2C%20%5B39.761189%2C%20-84.28887900000001%5D%2C%20%5B27.940109000000003%2C%20-82.476135%5D%2C%20%5B43.176296%2C%20-77.56031800000001%5D%2C%20%5B34.147549%2C%20-118.08206899999999%5D%2C%20%5B29.860538000000002%2C%20-95.545111%5D%2C%20%5B45.51914%2C%20-122.4965%5D%2C%20%5B34.35985%2C%20-117.43558%5D%2C%20%5B45.509468%2C%20-122.72548300000001%5D%2C%20%5B37.608856%2C%20-120.974208%5D%2C%20%5B33.31329%2C%20-111.867729%5D%2C%20%5B35.399227%2C%20-82.507515%5D%2C%20%5B39.816624%2C%20-86.009804%5D%2C%20%5B37.349121000000004%2C%20-121.99321%5D%2C%20%5B36.125114%2C%20-86.847748%5D%2C%20%5B25.970743%2C%20-80.147446%5D%2C%20%5B33.782413%2C%20-78.989479%5D%2C%20%5B34.259651%2C%20-80.572983%5D%2C%20%5B38.869015000000005%2C%20-112.441635%5D%2C%20%5B33.667145%2C%20-112.22029099999999%5D%2C%20%5B34.030289%2C%20-117.65753899999999%5D%2C%20%5B44.428979%2C%20-121.92258899999999%5D%2C%20%5B34.266998%2C%20-118.443596%5D%2C%20%5B29.839039%2C%20-95.398636%5D%2C%20%5B33.9827%2C%20-117.23240700000001%5D%2C%20%5B33.352852%2C%20-111.89459199999999%5D%2C%20%5B30.35513%2C%20-97.75659%5D%2C%20%5B36.038643%2C%20-79.011687%5D%2C%20%5B35.579437%2C%20-80.55420699999999%5D%2C%20%5B35.323871999999994%2C%20-80.952469%5D%2C%20%5B40.67445%2C%20-111.95277%5D%2C%20%5B40.602672999999996%2C%20-77.415192%5D%2C%20%5B34.156109%2C%20-79.304932%5D%2C%20%5B28.093578000000004%2C%20-82.739586%5D%2C%20%5B34.154858000000004%2C%20-118.31086499999999%5D%2C%20%5B39.991127%2C%20-76.498985%5D%2C%20%5B40.699821%2C%20-111.88829799999999%5D%2C%20%5B35.218788%2C%20-80.686432%5D%2C%20%5B29.706055%2C%20-95.301979%5D%2C%20%5B41.09532%2C%20-81.49982%5D%2C%20%5B41.520920000000004%2C%20-81.623405%5D%2C%20%5B41.974869%2C%20-88.222771%5D%2C%20%5B35.1839%2C%20-80.76092%5D%2C%20%5B40.526070000000004%2C%20-111.891861%5D%2C%20%5B32.908836%2C%20-96.892067%5D%2C%20%5B47.246407%2C%20-122.334267%5D%2C%20%5B39.749109000000004%2C%20-84.190134%5D%2C%20%5B25.944725%2C%20-80.17327900000001%5D%2C%20%5B39.831407%2C%20-77.22595600000001%5D%2C%20%5B33.664936%2C%20-84.418961%5D%2C%20%5B42.97031%2C%20-85.66909799999999%5D%2C%20%5B33.958046%2C%20-117.310806%5D%2C%20%5B32.300354%2C%20-90.246414%5D%2C%20%5B34.281929999999996%2C%20-118.40087%5D%2C%20%5B25.751663%2C%20-80.39027800000001%5D%2C%20%5B40.109669%2C%20-79.920052%5D%2C%20%5B29.982644%2C%20-90.110753%5D%2C%20%5B32.947159%2C%20-96.905731%5D%2C%20%5B39.937191%2C%20-75.363571%5D%2C%20%5B43.799713%2C%20-116.746945%5D%2C%20%5B40.97276%2C%20-111.89301%5D%2C%20%5B28.041801%2C%20-82.73839699999999%5D%2C%20%5B41.593426%2C%20-93.715424%5D%2C%20%5B35.35729%2C%20-80.86955%5D%2C%20%5B29.751040000000003%2C%20-95.60607900000001%5D%2C%20%5B46.113419%2C%20-123.28123500000001%5D%2C%20%5B34.017723%2C%20-118.27928899999999%5D%2C%20%5B38.344597%2C%20-122.00140400000001%5D%2C%20%5B33.924049%2C%20-117.42577299999999%5D%2C%20%5B39.61639%2C%20-104.894691%5D%2C%20%5B41.497131%2C%20-95.209826%5D%2C%20%5B40.6094%2C%20-112.033499%5D%2C%20%5B40.675036999999996%2C%20-80.098885%5D%2C%20%5B25.854035999999997%2C%20-80.322556%5D%2C%20%5B37.7182%2C%20-121.66403000000001%5D%2C%20%5B30.21858%2C%20-97.69099%5D%2C%20%5B30.421409999999998%2C%20-87.32866999999999%5D%2C%20%5B25.942526%2C%20-80.205116%5D%2C%20%5B33.79015%2C%20-118.207939%5D%2C%20%5B33.997066%2C%20-117.93118%5D%2C%20%5B34.974765999999995%2C%20-80.986954%5D%2C%20%5B43.143051%2C%20-77.636032%5D%2C%20%5B35.058638%2C%20-119.13908700000002%5D%2C%20%5B45.55999%2C%20-123.89221%5D%2C%20%5B28.580446000000002%2C%20-81.451561%5D%2C%20%5B30.190359%2C%20-97.770462%5D%2C%20%5B30.199011%2C%20-97.85141800000001%5D%2C%20%5B41.321362%2C%20-96.069397%5D%2C%20%5B33.872758000000005%2C%20-118.273358%5D%2C%20%5B35.53349%2C%20-82.60233000000001%5D%2C%20%5B42.396682%2C%20-73.828523%5D%2C%20%5B38.658895%2C%20-120.93596299999999%5D%2C%20%5B41.62256%2C%20-87.59612%5D%2C%20%5B25.867655%2C%20-80.256478%5D%2C%20%5B34.661999%2C%20-82.262337%5D%2C%20%5B36.219231%2C%20-82.443443%5D%2C%20%5B45.069851%2C%20-93.401222%5D%2C%20%5B41.23818%2C%20-96.08593%5D%2C%20%5B40.858940000000004%2C%20-91.56462900000001%5D%2C%20%5B39.15826%2C%20-121.06079%5D%2C%20%5B33.604054999999995%2C%20-112.251659%5D%2C%20%5B39.033203%2C%20-77.142197%5D%2C%20%5B30.297696999999996%2C%20-81.770889%5D%2C%20%5B28.021110999999998%2C%20-82.711472%5D%2C%20%5B37.327744%2C%20-121.87818899999999%5D%2C%20%5B34.8797%2C%20-82.389381%5D%2C%20%5B25.854059%2C%20-80.32247199999999%5D%2C%20%5B46.952831%2C%20-122.937653%5D%2C%20%5B39.1194%2C%20-94.565071%5D%2C%20%5B38.647614000000004%2C%20-121.360748%5D%2C%20%5B42.998764%2C%20-85.59027900000001%5D%2C%20%5B38.773786%2C%20-90.31738299999999%5D%2C%20%5B40.665708%2C%20-73.996112%5D%2C%20%5B42.182634%2C%20-87.87610699999999%5D%2C%20%5B41.889202000000004%2C%20-87.631058%5D%2C%20%5B40.64845%2C%20-111.90222%5D%2C%20%5B45.067535%2C%20-93.24771899999999%5D%2C%20%5B38.702209%2C%20-76.876152%5D%2C%20%5B44.811806%2C%20-93.291496%5D%2C%20%5B40.739917999999996%2C%20-73.818596%5D%2C%20%5B37.211351%2C%20-122.156827%5D%2C%20%5B41.687721%2C%20-93.462082%5D%2C%20%5B39.751059999999995%2C%20-104.92462900000001%5D%2C%20%5B33.958836%2C%20-117.30957%5D%2C%20%5B39.633132%2C%20-77.448466%5D%2C%20%5B42.850071%2C%20-78.79052%5D%2C%20%5B38.618947999999996%2C%20-121.267871%5D%2C%20%5B44.67754%2C%20-87.72999%5D%2C%20%5B38.101551%2C%20-121.25700400000001%5D%2C%20%5B38.275220000000004%2C%20-104.49662%5D%2C%20%5B41.57953%2C%20-87.62655%5D%2C%20%5B42.192471000000005%2C%20-86.16551199999999%5D%2C%20%5B28.232290000000003%2C%20-81.64964300000001%5D%2C%20%5B30.316677000000002%2C%20-97.62397800000001%5D%2C%20%5B42.318474%2C%20-83.075851%5D%2C%20%5B45.068661%2C%20-93.263481%5D%2C%20%5B44.919666%2C%20-93.27449%5D%2C%20%5B28.306428999999998%2C%20-81.570358%5D%2C%20%5B29.712797%2C%20-95.484685%5D%2C%20%5B33.982358000000005%2C%20-118.286454%5D%2C%20%5B37.191948%2C%20-122.396919%5D%2C%20%5B37.891193%2C%20-122.15016200000001%5D%2C%20%5B39.794724%2C%20-105.02533700000001%5D%2C%20%5B42.74085%2C%20-84.50974000000001%5D%2C%20%5B28.482390999999996%2C%20-81.240835%5D%2C%20%5B39.921726%2C%20-76.59498599999999%5D%2C%20%5B32.246140000000004%2C%20-110.901222%5D%2C%20%5B25.883515%2C%20-80.214325%5D%2C%20%5B32.841026%2C%20-96.66636700000001%5D%2C%20%5B41.49341%2C%20-94.237499%5D%2C%20%5B40.459764%2C%20-74.465976%5D%2C%20%5B40.368481%2C%20-75.144684%5D%2C%20%5B42.702296999999994%2C%20-73.849915%5D%2C%20%5B40.68213%2C%20-111.93898%5D%2C%20%5B25.959948999999998%2C%20-80.168702%5D%2C%20%5B34.076706%2C%20-117.54463999999999%5D%2C%20%5B45.41656%2C%20-122.74416000000001%5D%2C%20%5B33.54953%2C%20-79.048424%5D%2C%20%5B41.224289%2C%20-96.086113%5D%2C%20%5B37.634426%2C%20-77.544823%5D%2C%20%5B32.89537%2C%20-96.898163%5D%2C%20%5B40.07935%2C%20-74.21647%5D%2C%20%5B41.550987%2C%20-87.79300699999999%5D%2C%20%5B30.457812%2C%20-91.022941%5D%2C%20%5B35.824268%2C%20-78.677254%5D%2C%20%5B34.037999%2C%20-118.276449%5D%2C%20%5B27.908291%2C%20-82.227707%5D%2C%20%5B45.517628%2C%20-122.66688400000001%5D%2C%20%5B40.087296%2C%20-75.293114%5D%2C%20%5B42.377151%2C%20-83.03936800000001%5D%2C%20%5B40.641253999999996%2C%20-74.021294%5D%2C%20%5B45.368088%2C%20-93.971825%5D%2C%20%5B40.109103999999995%2C%20-75.195335%5D%2C%20%5B38.918869%2C%20-76.932182%5D%2C%20%5B35.904144%2C%20-78.960083%5D%2C%20%5B41.669853%2C%20-72.841286%5D%2C%20%5B33.873307000000004%2C%20-84.014117%5D%2C%20%5B34.003716%2C%20-81.11041999999999%5D%2C%20%5B38.110801%2C%20-121.394449%5D%2C%20%5B42.01103%2C%20-71.04172%5D%2C%20%5B44.95203%2C%20-93.06546%5D%2C%20%5B39.011070000000004%2C%20-78.298019%5D%2C%20%5B33.842037%2C%20-118.29001399999999%5D%2C%20%5B41.13333%2C%20-81.65117%5D%2C%20%5B33.65932%2C%20-111.93121000000001%5D%2C%20%5B30.215219%2C%20-97.768814%5D%2C%20%5B26.476359999999996%2C%20-81.83743299999999%5D%2C%20%5B33.765018%2C%20-84.493874%5D%2C%20%5B34.689522%2C%20-83.045029%5D%2C%20%5B45.06897%2C%20-93.296219%5D%2C%20%5B35.528053%2C%20-97.52494%5D%2C%20%5B34.089611%2C%20-117.898979%5D%2C%20%5B43.01255%2C%20-83.687874%5D%2C%20%5B33.241710999999995%2C%20-88.235283%5D%2C%20%5B38.140617%2C%20-121.25904799999999%5D%2C%20%5B30.3783%2C%20-97.675804%5D%2C%20%5B26.680553000000003%2C%20-80.16350600000001%5D%2C%20%5B35.224292999999996%2C%20-80.613127%5D%2C%20%5B33.943135999999996%2C%20-118.22788%5D%2C%20%5B34.03924%2C%20-81.111307%5D%2C%20%5B33.911663%2C%20-84.357506%5D%2C%20%5B36.327184%2C%20-119.36256000000002%5D%2C%20%5B37.5318%2C%20-77.42581%5D%2C%20%5B30.344969%2C%20-97.701706%5D%2C%20%5B32.781132%2C%20-96.62439%5D%2C%20%5B34.35006%2C%20-119.05323%5D%2C%20%5B37.635142%2C%20-122.10239399999999%5D%2C%20%5B42.864917999999996%2C%20-82.553635%5D%2C%20%5B41.87162%2C%20-87.75895%5D%2C%20%5B35.464413%2C%20-97.742538%5D%2C%20%5B33.928490000000004%2C%20-118.29158000000001%5D%2C%20%5B35.489036999999996%2C%20-97.565636%5D%2C%20%5B32.49754%2C%20-82.979897%5D%2C%20%5B34.152397%2C%20-118.098671%5D%2C%20%5B37.706112%2C%20-121.07753799999999%5D%2C%20%5B34.683462%2C%20-85.000866%5D%2C%20%5B42.470978%2C%20-71.108482%5D%2C%20%5B34.86227%2C%20-82.282944%5D%2C%20%5B27.893659999999997%2C%20-82.273949%5D%2C%20%5B29.555031%2C%20-81.656242%5D%2C%20%5B33.918620000000004%2C%20-116.77711000000001%5D%2C%20%5B39.80016%2C%20-105.02441999999999%5D%2C%20%5B29.44652%2C%20-100.922203%5D%2C%20%5B33.564479999999996%2C%20-112.108231%5D%2C%20%5B30.466061%2C%20-97.843918%5D%2C%20%5B32.836985999999996%2C%20-96.97669300000001%5D%2C%20%5B42.500040999999996%2C%20-83.54507%5D%2C%20%5B45.069340000000004%2C%20-93.40117%5D%2C%20%5B28.632776%2C%20-81.415031%5D%2C%20%5B29.402763%2C%20-98.443993%5D%2C%20%5B40.297191999999995%2C%20-111.72448%5D%2C%20%5B34.121223%2C%20-118.479561%5D%2C%20%5B32.8069%2C%20-96.76406899999999%5D%2C%20%5B35.942097%2C%20-84.001434%5D%2C%20%5B30.251589000000003%2C%20-81.58446500000001%5D%2C%20%5B42.3848%2C%20-88.03385899999999%5D%2C%20%5B30.118031%2C%20-97.708839%5D%2C%20%5B34.277522999999995%2C%20-118.60466799999999%5D%2C%20%5B38.630241%2C%20-121.267234%5D%2C%20%5B33.804443%2C%20-118.207527%5D%2C%20%5B42.95713%2C%20-88.047348%5D%2C%20%5B36.099872999999995%2C%20-86.739594%5D%2C%20%5B35.496227000000005%2C%20-119.159603%5D%2C%20%5B38.167217%2C%20-122.20298799999999%5D%2C%20%5B40.625326%2C%20-74.24458299999999%5D%2C%20%5B30.4986%2C%20-84.264847%5D%2C%20%5B40.083382%2C%20-75.177711%5D%2C%20%5B33.790578000000004%2C%20-118.28217099999999%5D%2C%20%5B33.412609%2C%20-86.80435200000001%5D%2C%20%5B34.153919%2C%20-118.6511%5D%2C%20%5B38.418713000000004%2C%20-121.894348%5D%2C%20%5B44.6421%2C%20-123.11263000000001%5D%2C%20%5B33.621986%2C%20-112.11631000000001%5D%2C%20%5B44.859108%2C%20-93.354271%5D%2C%20%5B37.3609%2C%20-121.91617%5D%2C%20%5B45.932682%2C%20-93.126839%5D%2C%20%5B30.450674%2C%20-91.17759699999999%5D%2C%20%5B36.098081%2C%20-94.093148%5D%2C%20%5B44.970352%2C%20-93.351013%5D%2C%20%5B35.77652%2C%20-78.71051999999999%5D%2C%20%5B42.956084999999995%2C%20-85.668968%5D%2C%20%5B30.308565%2C%20-81.647026%5D%2C%20%5B40.951599%2C%20-73.852814%5D%2C%20%5B33.837002000000005%2C%20-84.368073%5D%2C%20%5B40.110546%2C%20-74.89119000000001%5D%2C%20%5B36.314945%2C%20-82.374207%5D%2C%20%5B35.478668%2C%20-97.583344%5D%2C%20%5B39.711079%2C%20-105.07208999999999%5D%2C%20%5B43.056810999999996%2C%20-87.924389%5D%2C%20%5B33.77668%2C%20-117.8419%5D%2C%20%5B42.845583000000005%2C%20-72.190348%5D%2C%20%5B39.681286%2C%20-76.924035%5D%2C%20%5B26.705763%2C%20-80.075211%5D%2C%20%5B33.88592%2C%20-84.45786%5D%2C%20%5B28.29314%2C%20-80.74398000000001%5D%2C%20%5B30.405107%2C%20-91.17298100000001%5D%2C%20%5B35.223839%2C%20-80.879341%5D%2C%20%5B42.803968%2C%20-74.018036%5D%2C%20%5B43.065456%2C%20-83.84320799999999%5D%2C%20%5B36.13258%2C%20-80.28098299999999%5D%2C%20%5B41.90906%2C%20-87.92896%5D%2C%20%5B41.156261%2C%20-78.668137%5D%2C%20%5B38.010159%2C%20-122.22829399999999%5D%2C%20%5B40.392987%2C%20-122.285123%5D%2C%20%5B30.447217%2C%20-91.24434000000001%5D%2C%20%5B27.96063%2C%20-82.75447%5D%2C%20%5B27.912108%2C%20-82.78769799999999%5D%2C%20%5B29.716631%2C%20-95.551582%5D%2C%20%5B41.09557%2C%20-73.802307%5D%2C%20%5B26.705481%2C%20-80.055116%5D%2C%20%5B34.912468%2C%20-82.429283%5D%2C%20%5B35.11681%2C%20-80.92856%5D%2C%20%5B33.030071%2C%20-96.993011%5D%2C%20%5B32.763264%2C%20-117.16349199999999%5D%2C%20%5B44.93291%2C%20-93.07175%5D%2C%20%5B40.160667%2C%20-75.698098%5D%2C%20%5B28.225952000000003%2C%20-82.690872%5D%2C%20%5B41.806090000000005%2C%20-88.13242%5D%2C%20%5B42.144333%2C%20-87.829109%5D%2C%20%5B40.66433%2C%20-111.88831299999998%5D%2C%20%5B42.555766999999996%2C%20-114.57473999999999%5D%2C%20%5B42.067139000000005%2C%20-88.29143499999999%5D%2C%20%5B39.442087%2C%20-76.343275%5D%2C%20%5B34.048306%2C%20-117.550095%5D%2C%20%5B33.092409%2C%20-114.297374%5D%2C%20%5B33.982085999999995%2C%20-118.24771100000001%5D%2C%20%5B29.32688%2C%20-98.41834300000001%5D%2C%20%5B40.88765%2C%20-74.41674%5D%2C%20%5B35.352539%2C%20-119.039391%5D%2C%20%5B32.6796%2C%20-96.90864599999999%5D%2C%20%5B29.722095%2C%20-95.376701%5D%2C%20%5B25.866604000000002%2C%20-80.323013%5D%2C%20%5B44.996635%2C%20-93.458237%5D%2C%20%5B44.930634000000005%2C%20-93.350052%5D%2C%20%5B42.389156%2C%20-122.88516200000001%5D%2C%20%5B36.08978%2C%20-95.85894%5D%2C%20%5B39.220828000000004%2C%20-84.415834%5D%2C%20%5B41.886509999999994%2C%20-87.92061%5D%2C%20%5B28.478029%2C%20-82.601112%5D%2C%20%5B45.603493%2C%20-122.68233500000001%5D%2C%20%5B25.588787%2C%20-80.359162%5D%2C%20%5B42.911546%2C%20-89.357676%5D%2C%20%5B37.435624%2C%20-77.590108%5D%2C%20%5B36.63422%2C%20-76.655884%5D%2C%20%5B43.046299%2C%20-71.436523%5D%2C%20%5B46.706087%2C%20-92.282978%5D%2C%20%5B42.13485%2C%20-79.12575%5D%2C%20%5B41.277648%2C%20-74.147418%5D%2C%20%5B41.223808%2C%20-96.005684%5D%2C%20%5B37.797486%2C%20-121.19696100000002%5D%2C%20%5B40.716251%2C%20-73.821564%5D%2C%20%5B38.60618%2C%20-121.43208%5D%2C%20%5B25.946863%2C%20-80.294212%5D%2C%20%5B37.581146000000004%2C%20-77.328743%5D%2C%20%5B26.22775%2C%20-80.29613%5D%2C%20%5B35.499741%2C%20-82.521751%5D%2C%20%5B40.474359%2C%20-79.971159%5D%2C%20%5B39.001881%2C%20-77.403526%5D%2C%20%5B33.131763%2C%20-117.105415%5D%2C%20%5B33.908489%2C%20-117.28719299999999%5D%2C%20%5B37.768051%2C%20-122.22026100000001%5D%2C%20%5B39.16012%2C%20-76.8236%5D%2C%20%5B40.706878%2C%20-74.19909%5D%2C%20%5B33.934521000000004%2C%20-118.3526%5D%2C%20%5B35.00734%2C%20-81.951802%5D%2C%20%5B33.521209999999996%2C%20-86.825912%5D%2C%20%5B37.939838%2C%20-122.059502%5D%2C%20%5B41.548028%2C%20-93.953737%5D%2C%20%5B38.614857%2C%20-121.150475%5D%2C%20%5B42.323017%2C%20-88.164642%5D%2C%20%5B39.209679%2C%20-85.824432%5D%2C%20%5B27.817631%2C%20-82.78694200000001%5D%2C%20%5B32.729073%2C%20-117.106155%5D%2C%20%5B36.192924%2C%20-86.77750400000001%5D%2C%20%5B40.77026%2C%20-81.39151%5D%2C%20%5B41.398144%2C%20-73.792763%5D%2C%20%5B29.683352000000003%2C%20-95.229475%5D%2C%20%5B32.670959%2C%20-96.94722%5D%2C%20%5B25.786179999999998%2C%20-80.374039%5D%2C%20%5B37.663979%2C%20-121.02828999999998%5D%2C%20%5B39.964149%2C%20-74.20723000000001%5D%2C%20%5B42.482159%2C%20-86.22229%5D%2C%20%5B39.834942%2C%20-105.081703%5D%2C%20%5B34.16108%2C%20-118.46961%5D%2C%20%5B40.609547%2C%20-74.03533900000001%5D%2C%20%5B30.439172999999997%2C%20-91.019983%5D%2C%20%5B35.269161%2C%20-80.81456800000001%5D%2C%20%5B38.013992%2C%20-121.87635800000001%5D%2C%20%5B40.691646999999996%2C%20-73.999306%5D%2C%20%5B39.679474%2C%20-104.993253%5D%2C%20%5B28.193971%2C%20-82.594375%5D%2C%20%5B44.951153000000005%2C%20-93.116158%5D%2C%20%5B29.699090999999996%2C%20-95.401611%5D%2C%20%5B29.595202%2C%20-95.386253%5D%2C%20%5B34.01027%2C%20-117.8234%5D%2C%20%5B38.581284000000004%2C%20-122.59625700000001%5D%2C%20%5B39.859862%2C%20-74.221799%5D%2C%20%5B39.60815%2C%20-77.72917%5D%2C%20%5B34.02754%2C%20-118.27471000000001%5D%2C%20%5B37.57417%2C%20-77.46386%5D%2C%20%5B39.264919%2C%20-121.197151%5D%2C%20%5B40.844731%2C%20-73.92514399999999%5D%2C%20%5B42.275698999999996%2C%20-123.017499%5D%2C%20%5B33.49703%2C%20-117.14845%5D%2C%20%5B39.03161%2C%20-84.60582%5D%2C%20%5B39.78828%2C%20-84.181793%5D%2C%20%5B34.06841%2C%20-118.03837%5D%2C%20%5B38.336791%2C%20-109.43198899999999%5D%2C%20%5B41.818054%2C%20-71.396523%5D%2C%20%5B34.231821000000004%2C%20-93.010715%5D%2C%20%5B37.881904999999996%2C%20-122.30828100000001%5D%2C%20%5B33.740811%2C%20-117.833808%5D%2C%20%5B36.768749%2C%20-121.75498999999999%5D%2C%20%5B38.242282%2C%20-85.688906%5D%2C%20%5B37.776779%2C%20-122.23616799999999%5D%2C%20%5B35.291261999999996%2C%20-80.76929799999999%5D%2C%20%5B34.068121000000005%2C%20-118.02875300000001%5D%2C%20%5B42.649370000000005%2C%20-71.18767%5D%2C%20%5B32.400906%2C%20-111.131096%5D%2C%20%5B43.07263%2C%20-76.05332%5D%2C%20%5B35.878796%2C%20-119.27093500000001%5D%2C%20%5B38.679446999999996%2C%20-90.01355%5D%2C%20%5B34.02535%2C%20-117.33431000000002%5D%2C%20%5B33.70343%2C%20-84.14107%5D%2C%20%5B42.525185%2C%20-71.08081800000001%5D%2C%20%5B29.937215999999996%2C%20-95.45517%5D%2C%20%5B35.801414%2C%20-78.62812%5D%2C%20%5B32.923491999999996%2C%20-96.779709%5D%2C%20%5B34.011435999999996%2C%20-81.148201%5D%2C%20%5B34.06434%2C%20-118.25068999999999%5D%2C%20%5B34.03112%2C%20-118.020701%5D%2C%20%5B33.694839%2C%20-85.8283%5D%2C%20%5B30.39442%2C%20-81.667891%5D%2C%20%5B34.681629%2C%20-82.161247%5D%2C%20%5B40.616325%2C%20-74.026276%5D%2C%20%5B37.763273999999996%2C%20-121.33691100000001%5D%2C%20%5B27.950195%2C%20-82.52409399999999%5D%2C%20%5B38.890034%2C%20-78.517166%5D%2C%20%5B33.43448%2C%20-117.14209%5D%2C%20%5B35.076721%2C%20-90.025574%5D%2C%20%5B47.54068%2C%20-122.28286000000001%5D%2C%20%5B38.117683%2C%20-122.56494099999999%5D%2C%20%5B38.469272%2C%20-90.430761%5D%2C%20%5B30.19381%2C%20-97.767227%5D%2C%20%5B38.207423999999996%2C%20-85.670662%5D%2C%20%5B38.523136%2C%20-77.369286%5D%2C%20%5B44.97707%2C%20-93.088448%5D%2C%20%5B40.564372999999996%2C%20-75.484863%5D%2C%20%5B39.745884000000004%2C%20-84.190575%5D%2C%20%5B42.46269%2C%20-123.31833999999999%5D%2C%20%5B30.336399%2C%20-97.695679%5D%2C%20%5B35.137718%2C%20-80.90748599999999%5D%2C%20%5B40.499618%2C%20-121.850035%5D%2C%20%5B39.514%2C%20-119.986923%5D%2C%20%5B33.148018%2C%20-117.19593400000001%5D%2C%20%5B32.788123999999996%2C%20-86.871864%5D%2C%20%5B39.964287%2C%20-82.982925%5D%2C%20%5B35.138779%2C%20-89.869385%5D%2C%20%5B36.168106%2C%20-95.759636%5D%2C%20%5B34.329817999999996%2C%20-118.505826%5D%2C%20%5B32.734142%2C%20-96.665611%5D%2C%20%5B33.56406%2C%20-81.76019000000001%5D%2C%20%5B38.004065999999995%2C%20-121.83766200000001%5D%2C%20%5B40.696498999999996%2C%20-112.06308700000001%5D%2C%20%5B44.123670000000004%2C%20-121.28537%5D%2C%20%5B35.6394%2C%20-78.833313%5D%2C%20%5B36.987724%2C%20-79.654306%5D%2C%20%5B44.02021%2C%20-121.37137%5D%2C%20%5B33.852%2C%20-84.4312%5D%2C%20%5B35.766506%2C%20-78.73536700000001%5D%2C%20%5B34.142757%2C%20-118.185654%5D%2C%20%5B33.809189%2C%20-118.28773500000001%5D%2C%20%5B41.658584999999995%2C%20-93.620224%5D%2C%20%5B34.442684%2C%20-79.372704%5D%2C%20%5B27.95233%2C%20-82.37471%5D%2C%20%5B42.808023999999996%2C%20-121.835043%5D%2C%20%5B33.167976%2C%20-87.525398%5D%2C%20%5B33.880604%2C%20-117.613068%5D%2C%20%5B32.766487%2C%20-117.149841%5D%2C%20%5B47.601704%2C%20-122.32637%5D%2C%20%5B38.285121999999994%2C%20-122.30068999999999%5D%2C%20%5B36.089836%2C%20-96.011658%5D%2C%20%5B34.454121%2C%20-82.15514399999999%5D%2C%20%5B32.2225%2C%20-110.976547%5D%2C%20%5B34.336586%2C%20-118.51198600000001%5D%2C%20%5B39.044052%2C%20-123.150136%5D%2C%20%5B33.954239%2C%20-117.304955%5D%2C%20%5B37.739335%2C%20-121.59082%5D%2C%20%5B44.8619%2C%20-93.28844000000001%5D%2C%20%5B42.33129%2C%20-71.25426999999999%5D%2C%20%5B38.507656%2C%20-122.719826%5D%2C%20%5B25.898684%2C%20-80.32437900000001%5D%2C%20%5B39.778263%2C%20-104.908203%5D%2C%20%5B30.373859000000003%2C%20-97.662819%5D%2C%20%5B42.960896000000005%2C%20-85.67349200000001%5D%2C%20%5B27.431240000000003%2C%20-82.57547%5D%2C%20%5B33.813068%2C%20-84.470886%5D%2C%20%5B38.62721%2C%20-77.072989%5D%2C%20%5B41.81337%2C%20-71.408691%5D%2C%20%5B36.154682%2C%20-86.759506%5D%2C%20%5B40.049595000000004%2C%20-75.410359%5D%2C%20%5B34.204948%2C%20-79.76870699999999%5D%2C%20%5B32.030048%2C%20-81.115189%5D%2C%20%5B39.673203%2C%20-84.221886%5D%2C%20%5B30.384359000000003%2C%20-91.06478100000001%5D%2C%20%5B32.791722%2C%20-117.158891%5D%2C%20%5B37.77159%2C%20-122.42313999999999%5D%2C%20%5B33.683556%2C%20-117.858527%5D%2C%20%5B38.550697%2C%20-121.42221799999999%5D%2C%20%5B45.130253%2C%20-93.390793%5D%2C%20%5B38.191437%2C%20-122.916641%5D%2C%20%5B39.029056%2C%20-74.86325500000001%5D%2C%20%5B29.744165000000002%2C%20-95.361115%5D%2C%20%5B43.043064%2C%20-85.661865%5D%2C%20%5B45.28868%2C%20-93.552306%5D%2C%20%5B33.335141%2C%20-117.153282%5D%2C%20%5B33.860957%2C%20-118.039511%5D%2C%20%5B37.593497%2C%20-122.505857%5D%2C%20%5B40.455870000000004%2C%20-76.3807%5D%2C%20%5B37.92811%2C%20-104.82087%5D%2C%20%5B37.899883%2C%20-122.51604499999999%5D%2C%20%5B34.071911%2C%20-117.87404599999999%5D%2C%20%5B41.717361%2C%20-93.600479%5D%2C%20%5B28.004763%2C%20-82.287224%5D%2C%20%5B33.912338%2C%20-84.37912800000001%5D%2C%20%5B34.370135999999995%2C%20-118.560585%5D%2C%20%5B34.755424%2C%20-92.297658%5D%2C%20%5B44.396854%2C%20-88.15409100000001%5D%2C%20%5B42.948803000000005%2C%20-85.674667%5D%2C%20%5B33.572701%2C%20-81.83551800000001%5D%2C%20%5B37.34238%2C%20-121.85526999999999%5D%2C%20%5B41.248566%2C%20-96.151352%5D%2C%20%5B26.165884%2C%20-80.16024%5D%2C%20%5B35.175888%2C%20-80.714561%5D%2C%20%5B40.541271%2C%20-74.30855600000001%5D%2C%20%5B34.189064%2C%20-80.687881%5D%2C%20%5B29.418894%2C%20-98.520096%5D%2C%20%5B33.639319%2C%20-117.346579%5D%2C%20%5B25.734170000000002%2C%20-80.302918%5D%2C%20%5B45.887648999999996%2C%20-106.63064399999999%5D%2C%20%5B29.773359000000003%2C%20-95.457603%5D%2C%20%5B27.894370000000002%2C%20-82.74592%5D%2C%20%5B38.3672%2C%20-90.3843%5D%2C%20%5B34.168171%2C%20-118.58345800000001%5D%2C%20%5B35.278908%2C%20-80.793503%5D%2C%20%5B42.401234%2C%20-71.095268%5D%2C%20%5B32.836929999999995%2C%20-97.04145%5D%2C%20%5B39.830853000000005%2C%20-84.995728%5D%2C%20%5B33.850094%2C%20-117.87634299999999%5D%2C%20%5B32.939941%2C%20-96.746048%5D%2C%20%5B36.270618%2C%20-77.70696%5D%2C%20%5B38.184818%2C%20-121.58541899999999%5D%2C%20%5B34.653549%2C%20-79.90403%5D%2C%20%5B33.965807%2C%20-118.24766499999998%5D%2C%20%5B32.875285999999996%2C%20-117.229019%5D%2C%20%5B35.805679%2C%20-78.72779799999999%5D%2C%20%5B32.867488%2C%20-117.233433%5D%2C%20%5B37.643349%2C%20-122.09293400000001%5D%2C%20%5B29.576902%2C%20-97.974335%5D%2C%20%5B32.317036%2C%20-109.441872%5D%2C%20%5B41.84523%2C%20-87.633926%5D%2C%20%5B32.815571000000006%2C%20-97.20665%5D%2C%20%5B33.433712%2C%20-112.590897%5D%2C%20%5B41.548286%2C%20-72.782249%5D%2C%20%5B45.569241%2C%20-122.678444%5D%2C%20%5B27.082862%2C%20-82.425779%5D%2C%20%5B34.15592%2C%20-118.44601999999999%5D%2C%20%5B30.402079999999998%2C%20-81.6633%5D%2C%20%5B39.756851%2C%20-75.569122%5D%2C%20%5B42.927814%2C%20-85.681854%5D%2C%20%5B32.827751%2C%20-97.04929399999999%5D%2C%20%5B34.135078%2C%20-117.61615800000001%5D%2C%20%5B35.812759%2C%20-78.738106%5D%2C%20%5B42.338905%2C%20-71.262665%5D%2C%20%5B40.479538%2C%20-104.991875%5D%2C%20%5B32.67592%2C%20-97.0345%5D%2C%20%5B35.478790000000004%2C%20-97.65433%5D%2C%20%5B45.686679999999996%2C%20-122.66436399999999%5D%2C%20%5B34.688159999999996%2C%20-82.996162%5D%2C%20%5B27.91548%2C%20-82.33659399999999%5D%2C%20%5B35.462123999999996%2C%20-78.456613%5D%2C%20%5B40.609946%2C%20-75.527896%5D%2C%20%5B33.94593%2C%20-118.17052%5D%2C%20%5B33.483189%2C%20-86.779465%5D%2C%20%5B40.19405%2C%20-75.523842%5D%2C%20%5B32.865479%2C%20-96.804092%5D%2C%20%5B38.012453%2C%20-121.941833%5D%2C%20%5B29.946646%2C%20-90.088483%5D%2C%20%5B35.834835%2C%20-78.671143%5D%2C%20%5B40.80508%2C%20-73.27476%5D%2C%20%5B32.772568%2C%20-96.811539%5D%2C%20%5B35.22575%2C%20-80.61381999999999%5D%2C%20%5B33.813431%2C%20-118.167686%5D%2C%20%5B32.983425%2C%20-96.80426800000001%5D%2C%20%5B36.048321%2C%20-119.039368%5D%2C%20%5B45.57235%2C%20-122.67877%5D%2C%20%5B37.549999%2C%20-77.477097%5D%2C%20%5B33.7771%2C%20-117.83798999999999%5D%2C%20%5B37.366436%2C%20-121.90103400000001%5D%2C%20%5B33.455482%2C%20-82.075735%5D%2C%20%5B32.794209%2C%20-96.697289%5D%2C%20%5B33.926926%2C%20-81.28999300000001%5D%2C%20%5B39.535439000000004%2C%20-119.787361%5D%2C%20%5B34.09663%2C%20-118.4772%5D%2C%20%5B40.976459999999996%2C%20-74.07064100000001%5D%2C%20%5B41.369312%2C%20-73.638489%5D%2C%20%5B34.039364%2C%20-81.09362%5D%2C%20%5B33.796034999999996%2C%20-117.230971%5D%2C%20%5B28.552176%2C%20-81.464584%5D%2C%20%5B43.953632%2C%20-121.349053%5D%2C%20%5B26.667313%2C%20-81.889761%5D%2C%20%5B41.51207%2C%20-71.366821%5D%2C%20%5B40.323128000000004%2C%20-75.421684%5D%2C%20%5B35.25631%2C%20-80.83606%5D%2C%20%5B28.098825%2C%20-82.453064%5D%2C%20%5B42.349056%2C%20-87.894234%5D%2C%20%5B34.061096%2C%20-118.165329%5D%2C%20%5B34.02953%2C%20-118.19976000000001%5D%2C%20%5B30.52305%2C%20-91.124893%5D%2C%20%5B33.78487%2C%20-84.24601%5D%2C%20%5B25.764965%2C%20-80.481601%5D%2C%20%5B27.449821000000004%2C%20-82.506264%5D%2C%20%5B30.258909000000003%2C%20-92.108131%5D%2C%20%5B29.951059000000004%2C%20-95.358513%5D%2C%20%5B39.065826%2C%20-84.296257%5D%2C%20%5B40.676739000000005%2C%20-73.557518%5D%2C%20%5B33.16887%2C%20-117.21734%5D%2C%20%5B40.544132%2C%20-111.938728%5D%2C%20%5B42.353249%2C%20-71.055008%5D%2C%20%5B32.816109999999995%2C%20-96.86811%5D%2C%20%5B33.75801%2C%20-84.49355%5D%2C%20%5B34.0304%2C%20-117.6238%5D%2C%20%5B38.25908%2C%20-85.72359%5D%2C%20%5B39.67569%2C%20-75.474701%5D%2C%20%5B35.024066999999995%2C%20-89.734787%5D%2C%20%5B41.40521%2C%20-74.34263%5D%2C%20%5B33.83647%2C%20-117.94158999999999%5D%2C%20%5B34.257597%2C%20-118.19679099999999%5D%2C%20%5B33.928146000000005%2C%20-118.239166%5D%2C%20%5B38.394379%2C%20-122.708878%5D%2C%20%5B40.159634000000004%2C%20-75.408325%5D%2C%20%5B42.870052%2C%20-71.34056899999999%5D%2C%20%5B34.375885%2C%20-84.91008000000001%5D%2C%20%5B30.435369%2C%20-91.024353%5D%2C%20%5B34.355321999999994%2C%20-119.047775%5D%2C%20%5B39.518852%2C%20-119.783243%5D%2C%20%5B37.37531%2C%20-121.93404%5D%2C%20%5B37.690511%2C%20-122.078223%5D%2C%20%5B35.435261%2C%20-97.618706%5D%2C%20%5B33.426186%2C%20-82.052773%5D%2C%20%5B41.805246999999994%2C%20-88.186308%5D%2C%20%5B40.998478000000006%2C%20-74.071312%5D%2C%20%5B38.991417%2C%20-76.886101%5D%2C%20%5B39.695721%2C%20-104.829727%5D%2C%20%5B26.137226000000002%2C%20-80.168877%5D%2C%20%5B40.734882%2C%20-74.123688%5D%2C%20%5B42.561768%2C%20-71.29819499999999%5D%2C%20%5B33.298885%2C%20-117.46448500000001%5D%2C%20%5B39.056277%2C%20-121.569727%5D%2C%20%5B39.16695%2C%20-94.55905200000001%5D%2C%20%5B32.805510999999996%2C%20-96.79592099999999%5D%2C%20%5B33.941459%2C%20-118.361337%5D%2C%20%5B39.740210999999995%2C%20-105.10954299999999%5D%2C%20%5B25.979953%2C%20-80.165913%5D%2C%20%5B32.76252%2C%20-96.77247%5D%2C%20%5B30.428185%2C%20-91.170433%5D%2C%20%5B37.800121000000004%2C%20-122.224701%5D%2C%20%5B39.015036%2C%20-76.07059100000001%5D%2C%20%5B33.742554%2C%20-117.43781299999999%5D%2C%20%5B44.982304%2C%20-93.24359100000001%5D%2C%20%5B36.125492%2C%20-86.846878%5D%2C%20%5B45.675305%2C%20-121.275275%5D%2C%20%5B26.24693%2C%20-80.16493%5D%2C%20%5B36.118927%2C%20-95.886635%5D%2C%20%5B40.82835%2C%20-73.840401%5D%2C%20%5B40.89622%2C%20-74.63835999999999%5D%2C%20%5B38.962212%2C%20-77.15427199999999%5D%2C%20%5B29.939080999999998%2C%20-95.38147%5D%2C%20%5B33.720154%2C%20-84.471512%5D%2C%20%5B29.720209000000004%2C%20-95.468109%5D%2C%20%5B30.317244%2C%20-82.80725100000001%5D%2C%20%5B39.03951%2C%20-94.34597%5D%2C%20%5B40.610479%2C%20-74.119337%5D%2C%20%5B34.063038%2C%20-81.04613499999999%5D%2C%20%5B42.50985%2C%20-73.79075%5D%2C%20%5B40.845141999999996%2C%20-73.92654399999999%5D%2C%20%5B33.461662%2C%20-112.27710800000001%5D%2C%20%5B32.76447%2C%20-117.16278%5D%2C%20%5B30.215269%2C%20-92.016258%5D%2C%20%5B37.850075%2C%20-122.238419%5D%2C%20%5B37.610371%2C%20-77.448784%5D%2C%20%5B43.686611%2C%20-70.322594%5D%2C%20%5B40.721030999999996%2C%20-111.85192099999999%5D%2C%20%5B34.005451%2C%20-118.41325400000001%5D%2C%20%5B42.13901%2C%20-72.02903%5D%2C%20%5B44.00145%2C%20-92.483749%5D%2C%20%5B35.999140000000004%2C%20-78.91314%5D%2C%20%5B39.91975%2C%20-75.57691%5D%2C%20%5B29.564919%2C%20-98.482277%5D%2C%20%5B35.214141999999995%2C%20-80.889315%5D%2C%20%5B34.066379%2C%20-117.471245%5D%2C%20%5B36.175133%2C%20-86.784286%5D%2C%20%5B30.516410999999998%2C%20-97.687721%5D%2C%20%5B39.905239%2C%20-86.033005%5D%2C%20%5B29.897413%2C%20-95.606094%5D%2C%20%5B45.94169%2C%20-123.91915%5D%2C%20%5B36.844383%2C%20-76.196579%5D%2C%20%5B34.40965%2C%20-117.39388000000001%5D%2C%20%5B32.9244%2C%20-96.76822%5D%2C%20%5B44.299170000000004%2C%20-93.98454%5D%2C%20%5B41.547844%2C%20-93.954033%5D%2C%20%5B41.205533%2C%20-76.785452%5D%2C%20%5B42.3447%2C%20-83.043938%5D%2C%20%5B41.93124%2C%20-87.91938%5D%2C%20%5B40.886654%2C%20-73.815353%5D%2C%20%5B42.644709999999996%2C%20-73.75009%5D%2C%20%5B41.813507%2C%20-87.93435699999999%5D%2C%20%5B32.734638000000004%2C%20-97.41355899999999%5D%2C%20%5B42.325115000000004%2C%20-83.083618%5D%2C%20%5B29.72782%2C%20-95.571147%5D%2C%20%5B35.471882%2C%20-97.545479%5D%2C%20%5B25.709115%2C%20-80.28365%5D%2C%20%5B42.362156%2C%20-71.05603%5D%2C%20%5B33.731288%2C%20-84.231382%5D%2C%20%5B36.10581%2C%20-95.90736%5D%2C%20%5B28.387079999999997%2C%20-81.40444000000001%5D%2C%20%5B36.121196999999995%2C%20-95.922386%5D%2C%20%5B40.653797%2C%20-74.008087%5D%2C%20%5B42.239775%2C%20-87.862362%5D%2C%20%5B44.948807%2C%20-92.851105%5D%2C%20%5B42.334724%2C%20-79.59034%5D%2C%20%5B28.481014000000002%2C%20-81.447132%5D%2C%20%5B29.660583000000003%2C%20-95.59787%5D%2C%20%5B34.824749%2C%20-82.436409%5D%2C%20%5B39.00808%2C%20-78.33414499999999%5D%2C%20%5B36.370416999999996%2C%20-120.33595600000001%5D%2C%20%5B35.50008%2C%20-97.46350100000001%5D%2C%20%5B30.290654999999997%2C%20-81.629631%5D%2C%20%5B29.697172%2C%20-95.288391%5D%2C%20%5B44.85875%2C%20-93.35019%5D%2C%20%5B37.481102%2C%20-122.17588%5D%2C%20%5B33.844669%2C%20-117.204125%5D%2C%20%5B39.402%2C%20-76.59985999999999%5D%2C%20%5B42.932564%2C%20-78.76619000000001%5D%2C%20%5B34.161460999999996%2C%20-117.46538000000001%5D%2C%20%5B45.514091%2C%20-120.683517%5D%2C%20%5B40.696346000000005%2C%20-75.175934%5D%2C%20%5B34.090065%2C%20-117.94159099999999%5D%2C%20%5B38.555122999999995%2C%20-121.40368799999999%5D%2C%20%5B34.027583%2C%20-118.45241100000001%5D%2C%20%5B40.78756%2C%20-76.581558%5D%2C%20%5B35.211769%2C%20-118.739403%5D%2C%20%5B40.764549%2C%20-73.08285500000001%5D%2C%20%5B32.227940000000004%2C%20-110.9282%5D%2C%20%5B35.289092%2C%20-80.75811800000001%5D%2C%20%5B33.3857%2C%20-111.93489%5D%2C%20%5B40.741971%2C%20-74.083911%5D%2C%20%5B33.912067%2C%20-118.159843%5D%2C%20%5B34.180943%2C%20-79.680092%5D%2C%20%5B36.100349%2C%20-86.871101%5D%2C%20%5B38.907063%2C%20-77.40570100000001%5D%2C%20%5B33.523769%2C%20-112.06501000000002%5D%2C%20%5B30.091403999999997%2C%20-83.537621%5D%2C%20%5B34.03841%2C%20-118.439682%5D%2C%20%5B28.81274%2C%20-81.50443299999999%5D%2C%20%5B39.244263000000004%2C%20-94.456322%5D%2C%20%5B30.118328%2C%20-97.80448100000001%5D%2C%20%5B25.896519%2C%20-80.378632%5D%2C%20%5B38.231958%2C%20-77.49838000000001%5D%2C%20%5B40.458248%2C%20-80.188775%5D%2C%20%5B26.011098999999998%2C%20-80.16681700000001%5D%2C%20%5B29.701629999999998%2C%20-95.369839%5D%2C%20%5B34.219444%2C%20-119.075%5D%2C%20%5B28.156405%2C%20-82.53770300000001%5D%2C%20%5B34.570788%2C%20-92.593921%5D%2C%20%5B34.38205%2C%20-80.25103%5D%2C%20%5B25.812199%2C%20-80.20585600000001%5D%2C%20%5B33.878391%2C%20-117.657677%5D%2C%20%5B35.008961%2C%20-81.85289%5D%2C%20%5B40.983230999999996%2C%20-73.866547%5D%2C%20%5B35.128890000000006%2C%20-80.93849%5D%2C%20%5B38.665848%2C%20-77.272602%5D%2C%20%5B40.610584%2C%20-74.032516%5D%2C%20%5B37.081665%2C%20-77.969841%5D%2C%20%5B35.393349%2C%20-97.561172%5D%2C%20%5B31.797478%2C%20-106.24501799999999%5D%2C%20%5B37.31903%2C%20-121.90189%5D%2C%20%5B39.945510999999996%2C%20-76.74192%5D%2C%20%5B42.343227%2C%20-83.216042%5D%2C%20%5B34.071556%2C%20-118.13478899999998%5D%2C%20%5B34.297259999999994%2C%20-81.119949%5D%2C%20%5B45.472229999999996%2C%20-94.32355%5D%2C%20%5B32.42046%2C%20-93.76297%5D%2C%20%5B29.624846%2C%20-95.355278%5D%2C%20%5B30.008568%2C%20-90.219955%5D%2C%20%5B38.973551%2C%20-123.014509%5D%2C%20%5B37.973152%2C%20-121.247295%5D%2C%20%5B30.342819%2C%20-97.557266%5D%2C%20%5B33.908504%2C%20-84.42977900000001%5D%2C%20%5B41.402594%2C%20-73.46453100000001%5D%2C%20%5B35.536861%2C%20-97.514351%5D%2C%20%5B47.27233%2C%20-94.62732%5D%2C%20%5B41.74773%2C%20-72.65890999999999%5D%2C%20%5B40.789584999999995%2C%20-73.822479%5D%2C%20%5B40.462720000000004%2C%20-111.953599%5D%2C%20%5B39.985603000000005%2C%20-82.939247%5D%2C%20%5B34.473515%2C%20-117.12505300000001%5D%2C%20%5B27.71923%2C%20-82.67918%5D%2C%20%5B44.934486%2C%20-93.396759%5D%2C%20%5B35.760467999999996%2C%20-78.55193299999999%5D%2C%20%5B38.213584999999995%2C%20-122.14245600000001%5D%2C%20%5B31.746115000000003%2C%20-106.301758%5D%2C%20%5B33.197117%2C%20-87.479004%5D%2C%20%5B39.787242%2C%20-76.98396%5D%2C%20%5B40.740101%2C%20-73.845428%5D%2C%20%5B26.709809999999997%2C%20-81.720947%5D%2C%20%5B33.88491%2C%20-117.6336%5D%2C%20%5B43.160171999999996%2C%20-77.553833%5D%2C%20%5B36.240181%2C%20-86.748512%5D%2C%20%5B47.712317999999996%2C%20-122.34479499999999%5D%2C%20%5B43.386479%2C%20-123.34350900000001%5D%2C%20%5B39.874603%2C%20-75.044884%5D%2C%20%5B33.932815999999995%2C%20-118.297882%5D%2C%20%5B34.072105%2C%20-117.942757%5D%2C%20%5B33.48233%2C%20-86.778114%5D%2C%20%5B34.154182%2C%20-118.46823899999998%5D%2C%20%5B29.672276%2C%20-95.424812%5D%2C%20%5B40.606876%2C%20-74.115791%5D%2C%20%5B34.594505%2C%20-85.641075%5D%2C%20%5B35.348766%2C%20-97.52996800000001%5D%2C%20%5B34.072788%2C%20-118.073502%5D%2C%20%5B42.3739%2C%20-84.42889%5D%2C%20%5B35.377258000000005%2C%20-97.503525%5D%2C%20%5B32.970573%2C%20-117.24945100000001%5D%2C%20%5B43.142212%2C%20-77.586189%5D%2C%20%5B36.075759999999995%2C%20-79.795815%5D%2C%20%5B34.14085%2C%20-81.036888%5D%2C%20%5B38.27212%2C%20-77.89595%5D%2C%20%5B37.53868%2C%20-121.92728999999999%5D%2C%20%5B30.391937%2C%20-91.090851%5D%2C%20%5B34.29598%2C%20-117.45508000000001%5D%2C%20%5B33.68293%2C%20-80.128647%5D%2C%20%5B40.669270000000004%2C%20-74.21578199999999%5D%2C%20%5B42.424746999999996%2C%20-82.928658%5D%2C%20%5B33.998257%2C%20-117.36941499999999%5D%2C%20%5B38.864511%2C%20-77.332502%5D%2C%20%5B34.119946%2C%20-117.719986%5D%2C%20%5B42.367798%2C%20-83.139824%5D%2C%20%5B33.538879%2C%20-86.69023%5D%2C%20%5B44.88773%2C%20-93.370209%5D%2C%20%5B29.733278000000002%2C%20-95.580574%5D%2C%20%5B32.456615%2C%20-93.722107%5D%2C%20%5B29.775378999999997%2C%20-95.644028%5D%2C%20%5B41.212140999999995%2C%20-96.091016%5D%2C%20%5B40.699622999999995%2C%20-111.902473%5D%2C%20%5B41.945126%2C%20-87.67244000000001%5D%2C%20%5B33.540062%2C%20-81.991791%5D%2C%20%5B39.379276000000004%2C%20-76.44828000000001%5D%2C%20%5B34.016293%2C%20-118.158546%5D%2C%20%5B30.406719%2C%20-91.102417%5D%2C%20%5B40.283676%2C%20-74.0821%5D%2C%20%5B44.64955%2C%20-117.56391%5D%2C%20%5B34.066722999999996%2C%20-117.226257%5D%2C%20%5B25.883983999999998%2C%20-80.32373%5D%2C%20%5B38.524910999999996%2C%20-121.460026%5D%2C%20%5B35.834922999999996%2C%20-78.606422%5D%2C%20%5B39.747074%2C%20-75.5979%5D%2C%20%5B32.838513%2C%20-117.23086200000002%5D%2C%20%5B38.496071%2C%20-121.4291%5D%2C%20%5B40.239979%2C%20-79.577827%5D%2C%20%5B33.40784%2C%20-111.6154%5D%2C%20%5B41.02158%2C%20-73.72784%5D%2C%20%5B47.69056%2C%20-122.34454%5D%2C%20%5B32.76582%2C%20-96.750137%5D%2C%20%5B40.18932%2C%20-75.12471%5D%2C%20%5B37.447876%2C%20-121.921539%5D%2C%20%5B30.36644%2C%20-97.69175%5D%2C%20%5B37.503766%2C%20-120.87606799999999%5D%2C%20%5B41.031319%2C%20-75.91618299999999%5D%2C%20%5B37.978093%2C%20-122.06130800000001%5D%2C%20%5B37.134701%2C%20-93.301552%5D%2C%20%5B33.82925%2C%20-117.528099%5D%2C%20%5B42.967898999999996%2C%20-73.80143699999999%5D%2C%20%5B34.0538%2C%20-118.23385%5D%2C%20%5B33.474827000000005%2C%20-112.06509399999999%5D%2C%20%5B35.00642%2C%20-90.019318%5D%2C%20%5B29.863282%2C%20-95.475401%5D%2C%20%5B42.231411%2C%20-71.84948%5D%2C%20%5B37.62894%2C%20-77.43465%5D%2C%20%5B25.85225%2C%20-80.20814%5D%2C%20%5B40.8054%2C%20-76.901496%5D%2C%20%5B26.082074%2C%20-80.16734100000001%5D%2C%20%5B25.886303%2C%20-80.208988%5D%2C%20%5B37.324471%2C%20-121.88787099999999%5D%2C%20%5B34.13916%2C%20-118.71529199999999%5D%2C%20%5B40.890678%2C%20-72.49361400000001%5D%2C%20%5B30.260099%2C%20-97.709473%5D%2C%20%5B32.987431%2C%20-80.040749%5D%2C%20%5B25.566509%2C%20-80.363129%5D%2C%20%5B37.859262%2C%20-79.345997%5D%2C%20%5B35.239478999999996%2C%20-80.83596%5D%2C%20%5B40.622282%2C%20-124.212943%5D%2C%20%5B26.408695%2C%20-80.186607%5D%2C%20%5B33.737125%2C%20-84.230553%5D%2C%20%5B33.519034999999995%2C%20-117.160454%5D%2C%20%5B40.924416%2C%20-74.95904499999999%5D%2C%20%5B40.11567%2C%20-75.69431%5D%2C%20%5B35.28371%2C%20-80.6773%5D%2C%20%5B42.849899%2C%20-78.79026%5D%2C%20%5B41.351006%2C%20-83.622826%5D%2C%20%5B40.988640000000004%2C%20-73.8405%5D%2C%20%5B29.715307%2C%20-95.396461%5D%2C%20%5B34.51208%2C%20-113.41708%5D%2C%20%5B37.341015000000006%2C%20-121.900299%5D%2C%20%5B38.401165999999996%2C%20-121.91697099999999%5D%2C%20%5B40.7694%2C%20-73.27976%5D%2C%20%5B30.272070000000003%2C%20-97.755386%5D%2C%20%5B40.75072%2C%20-73.75083000000001%5D%2C%20%5B34.366453%2C%20-118.502951%5D%2C%20%5B39.454807%2C%20-76.646416%5D%2C%20%5B34.246578%2C%20-117.437408%5D%2C%20%5B40.608208000000005%2C%20-74.131935%5D%2C%20%5B34.1512%2C%20-118.60476000000001%5D%2C%20%5B35.962402000000004%2C%20-119.05361200000002%5D%2C%20%5B42.753929%2C%20-73.93363199999999%5D%2C%20%5B37.38855%2C%20-79.90503000000001%5D%2C%20%5B33.98172%2C%20-118.39171599999999%5D%2C%20%5B41.058544%2C%20-73.512253%5D%5D%2C%0A%20%20%20%20%20%20%20%20%20%20%20%20%20%20%20%20%7B%0A%20%20%20%20%20%20%20%20%20%20%20%20%20%20%20%20%20%20%20%20minOpacity%3A%200.5%2C%0A%20%20%20%20%20%20%20%20%20%20%20%20%20%20%20%20%20%20%20%20maxZoom%3A%2018%2C%0A%20%20%20%20%20%20%20%20%20%20%20%20%20%20%20%20%20%20%20%20max%3A%201.0%2C%0A%20%20%20%20%20%20%20%20%20%20%20%20%20%20%20%20%20%20%20%20radius%3A%2025%2C%0A%20%20%20%20%20%20%20%20%20%20%20%20%20%20%20%20%20%20%20%20blur%3A%2015%2C%0A%20%20%20%20%20%20%20%20%20%20%20%20%20%20%20%20%20%20%20%20gradient%3A%20null%0A%20%20%20%20%20%20%20%20%20%20%20%20%20%20%20%20%20%20%20%20%7D%29%0A%20%20%20%20%20%20%20%20%20%20%20%20%20%20%20%20.addTo%28map_321a6826549f43be944d3add45140fe8%29%3B%0A%20%20%20%20%20%20%20%20%0A%3C/script%3E onload=\"this.contentDocument.open();this.contentDocument.write(    decodeURIComponent(this.getAttribute('data-html')));this.contentDocument.close();\" allowfullscreen webkitallowfullscreen mozallowfullscreen></iframe></div></div>"
      ],
      "text/plain": [
       "<folium.folium.Map at 0x7f92c3575e10>"
      ]
     },
     "execution_count": 103,
     "metadata": {
      "tags": []
     },
     "output_type": "execute_result"
    }
   ],
   "source": [
    "map = folium.Map() \n",
    "HeatMap(heatmap_data).add_to(map)\n",
    "map"
   ]
  },
  {
   "cell_type": "code",
   "execution_count": 96,
   "metadata": {
    "executionInfo": {
     "elapsed": 31469,
     "status": "ok",
     "timestamp": 1618858775169,
     "user": {
      "displayName": "Ali Zain",
      "photoUrl": "",
      "userId": "05428374994241105854"
     },
     "user_tz": -300
    },
    "id": "kLGbZH0OauYY"
   },
   "outputs": [],
   "source": []
  },
  {
   "cell_type": "markdown",
   "metadata": {
    "id": "lPGJc7FkoRkV"
   },
   "source": [
    "#### Summary and Conclusions\n",
    "\n",
    "Insights:\n",
    "- No data from New York\n",
    "- Less than 5% of cities have more than 1000 yearly accidents.\n",
    "- The number of accidents per city decreases exponentially. \n",
    "- over 1200 cities have reported just 1 accident "
   ]
  },
  {
   "cell_type": "code",
   "execution_count": null,
   "metadata": {
    "executionInfo": {
     "elapsed": 14850,
     "status": "aborted",
     "timestamp": 1618856500767,
     "user": {
      "displayName": "Ali Zain",
      "photoUrl": "",
      "userId": "05428374994241105854"
     },
     "user_tz": -300
    },
    "id": "8OhTlBVSpHG4"
   },
   "outputs": [],
   "source": [
    "jovian.commit(project=\"us-accident-analysis\")"
   ]
  }
 ],
 "metadata": {
  "accelerator": "GPU",
  "colab": {
   "collapsed_sections": [],
   "name": "us-accident-analysis.ipynb",
   "provenance": []
  },
  "language_info": {
   "codemirror_mode": {
    "name": "ipython",
    "version": 3
   },
   "file_extension": ".py",
   "mimetype": "text/x-python",
   "name": "python",
   "nbconvert_exporter": "python",
   "pygments_lexer": "ipython3",
   "version": "3.7.6"
  }
 },
 "nbformat": 4,
 "nbformat_minor": 0
}
